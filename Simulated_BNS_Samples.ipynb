{
 "cells": [
  {
   "cell_type": "code",
   "execution_count": 1,
   "metadata": {
    "Collapsed": "false"
   },
   "outputs": [],
   "source": [
    "# SIMULATED_BNS_SAMPLES.IPYNB -- simulate mock samples for population of GW signals from BNS coalescences"
   ]
  },
  {
   "cell_type": "code",
   "execution_count": 2,
   "metadata": {
    "Collapsed": "false"
   },
   "outputs": [],
   "source": [
    "# import packages\n",
    "\n",
    "import numpy as np\n",
    "import matplotlib.pyplot as plt\n",
    "import seaborn as sns"
   ]
  },
  {
   "cell_type": "code",
   "execution_count": 3,
   "metadata": {
    "Collapsed": "false"
   },
   "outputs": [],
   "source": [
    "# define constants\n",
    "\n",
    "G = 6.67e-8\n",
    "c = 2.998e10\n",
    "Msol = 1.99e33"
   ]
  },
  {
   "cell_type": "code",
   "execution_count": 4,
   "metadata": {},
   "outputs": [],
   "source": [
    "# user input\n",
    "\n",
    "SCENARIO = '3G' # O4, O5, 3G\n",
    "SCENARIOTAG = '' # can add y2, w1, m1 tags to make O5y2 or 3Gw1, 3Gm1\n",
    "\n",
    "npop = {'O4': 4, 'O5': 17, 'O5y2': 34, '3Gw1': 112, '3Gm1': 485, '3G': 5823}[SCENARIO+SCENARIOTAG] # number of events in population\n",
    "nsamps = 1000 # number of samples per event\n",
    "\n",
    "noise = 0. # set zero for zero-noise injections, 1 for detector white noise"
   ]
  },
  {
   "cell_type": "code",
   "execution_count": 5,
   "metadata": {
    "Collapsed": "false"
   },
   "outputs": [
    {
     "name": "stdout",
     "output_type": "stream",
     "text": [
      "1.4782338600034926 1.2601197709386187 356.21751413953854\n"
     ]
    },
    {
     "data": {
      "image/png": "[encoded data removed]",
      "text/plain": [
       "<Figure size 432x288 with 1 Axes>"
      ]
     },
     "metadata": {
      "needs_background": "light"
     },
     "output_type": "display_data"
    }
   ],
   "source": [
    "# load GW170817 data\n",
    "\n",
    "GW170817path = './etc/GW170817_lospin.csv' # public GW170817 posterior samples from https://dcc.ligo.org/LIGO-P1800061/public\n",
    "GW170817dat = np.genfromtxt(GW170817path,names=True,delimiter=',',dtype=None,encoding=None)\n",
    "GW170817m1s = GW170817dat['m1_source']\n",
    "GW170817m2s = GW170817dat['m2_source']\n",
    "GW170817L1s = GW170817dat['Lambda1']\n",
    "GW170817L2s = GW170817dat['Lambda2']\n",
    "\n",
    "GW170817Lts = [16.*((m1+12*m2)*m1**4*L1+(m2+12*m1)*m2**4*L2)/(13.*(m1+m2)**5) for m1,m2,L1,L2 in zip(GW170817m1s,GW170817m2s,GW170817L1s,GW170817L2s)]\n",
    "\n",
    "GW170817m1 = np.median(GW170817m1s)\n",
    "GW170817m2 = np.median(GW170817m2s)\n",
    "GW170817Lt = np.median(GW170817Lts)\n",
    "print(GW170817m1,GW170817m2,GW170817Lt)\n",
    "\n",
    "GW170817snr = 33.\n",
    "GW170817dLt = 700./2\n",
    "GW170817dmc = 0.005/2\n",
    "GW170817dq = 0.27/2\n",
    "GW170817dDLt = 0./2 # set this to zero so there's no uncertainty in the Lambda_tilde --> Lambda1, Lambda2 mapping\n",
    "\n",
    "plt.hist(GW170817Lts,bins=int(np.sqrt(len(GW170817Lts))))\n",
    "plt.axvline(GW170817Lt,0.,300.,c='r')\n",
    "plt.xlim(0.,1500.)\n",
    "plt.ylim(0.,300.)\n",
    "plt.xlabel('Lambda_tilde')\n",
    "plt.ylabel('probability density')\n",
    "plt.show()"
   ]
  },
  {
   "cell_type": "code",
   "execution_count": 6,
   "metadata": {},
   "outputs": [],
   "source": [
    "# define transformed observables\n",
    "\n",
    "def mchirp_from_mass1_mass2(mass1, mass2):\n",
    "    \"\"\"Returns the chirp mass from mass1 and mass2.\"\"\"\n",
    "    return eta_from_mass1_mass2(mass1, mass2)**(3./5) * (mass1+mass2)\n",
    "\n",
    "def eta_from_mass1_mass2(mass1, mass2):\n",
    "    \"\"\"Returns the symmetric mass ratio from mass1 and mass2.\"\"\"\n",
    "    return mass1*mass2 / (mass1+mass2)**2.\n",
    "\n",
    "def q_from_mass1_mass2(mass1, mass2):\n",
    "    \"\"\"Returns the chirp mass from mass1 and mass2.\"\"\"\n",
    "    return mass2/mass1\n",
    "\n",
    "def chi_eff(mass1, mass2, spin1z, spin2z): \n",
    "    \"\"\"Returns the effective spin from mass1, mass2, spin1z, and spin2z.\"\"\"\n",
    "    return (spin1z * mass1 + spin2z * mass2) / (mass1 + mass2)\n",
    "\n",
    "def lambdatilde(lambda1,lambda2,m1,m2): \n",
    "    mtotal = m1+m2\n",
    "    m1fac=m1+12*m2\n",
    "    m2fac=m2+12*m1\n",
    "    return 16./13*(m1fac*m1**(4)*lambda1+m2fac*m2**(4)*lambda2)/mtotal**(5)\n",
    "\n",
    "def mcq_to_m1m2(mc,q):\n",
    "    \n",
    "    factor = mc*np.power(1+q, 1./5.)\n",
    "    m1 = factor*np.power(q, -3./5.)\n",
    "    m2 = factor*np.power(q, 2./5.)\n",
    "    \n",
    "    return m1,m2\n",
    "\n",
    "def Deltalambdatilde(lambda1,lambda2,q):\n",
    "    oneplusq6 = np.power(1+q,6)\n",
    "    m1fac=(1319.-7996.*q-11005.*q*q)/1319./oneplusq6\n",
    "    m2fac=np.power(q,4)*(1319.*q*q-7996.*q-11005.)/1319./oneplusq6\n",
    "    return (m1fac*lambda1-m2fac*lambda2)\n",
    "\n",
    "def Lambda1_of_tilde(LambdaT,DLambdaT,m1,m2):\n",
    "    mtotal = m1+m2\n",
    "    q=m2/m1\n",
    "    FactorLT1=16./13*(m1+12*m2)*m1**(4)/mtotal**(5)\n",
    "    oneplusq6 = np.power(1+q,6)\n",
    "    FactorDLT1=(1319.-7996.*q-11005.*q*q)/1319./oneplusq6\n",
    "    \n",
    "    FactorLT2=16./13*(m2+12*m1)*m2**(4)/mtotal**(5)\n",
    "    oneplusq6 = np.power(1+q,6)\n",
    "    FactorDLT2=np.power(q,4)*(1319.*q*q-7996.*q-11005.)/1319./oneplusq6\n",
    "    \n",
    "    return (FactorDLT2*LambdaT+FactorLT2*DLambdaT)/(FactorDLT2*FactorLT1+FactorLT2*FactorDLT1)\n",
    "    \n",
    "def Lambda2_of_tilde(LambdaT,DLambdaT,m1,m2):\n",
    "    mtotal = m1+m2\n",
    "    q=m2/m1\n",
    "    FactorLT1=16./13*(m1+12*m2)*m1**(4)/mtotal**(5)\n",
    "    oneplusq6 = np.power(1+q,6)\n",
    "    FactorDLT1=(1319.-7996.*q-11005.*q*q)/1319./oneplusq6\n",
    "    \n",
    "    FactorLT2=16./13*(m2+12*m1)*m2**(4)/mtotal**(5)\n",
    "    oneplusq6 = np.power(1+q,6)\n",
    "    FactorDLT2=np.power(q,4)*(1319.*q*q-7996.*q-11005.)/1319./oneplusq6\n",
    "\n",
    "    return (FactorDLT1*LambdaT-FactorLT1*DLambdaT)/(FactorDLT1*FactorLT2+FactorLT1*FactorDLT2)"
   ]
  },
  {
   "cell_type": "code",
   "execution_count": null,
   "metadata": {},
   "outputs": [
    {
     "name": "stderr",
     "output_type": "stream",
     "text": [
      "/opt/conda3/lib/python3.7/site-packages/ipykernel_launcher.py:28: RuntimeWarning: invalid value encountered in power\n",
      "/opt/conda3/lib/python3.7/site-packages/ipykernel_launcher.py:29: RuntimeWarning: invalid value encountered in power\n"
     ]
    }
   ],
   "source": [
    "# draw samples from distributions for each binary\n",
    "\n",
    "POP_PATH = './dat/{0}_unif_BNS_DBHF2010/BNS_MassesSpinsLambdas.csv'.format(SCENARIO)\n",
    "OUT_PATH = './dat/{0}_unif_BNS_DBHF2010/BNS_MassesSpinsLambdas_detected.csv'.format(SCENARIO+SCENARIOTAG)\n",
    "if noise == 0.: OUT_PATH = './dat/zeronoise_{0}_unif_BNS_DBHF2010/BNS_MassesSpinsLambdas_detected.csv'.format(SCENARIO+SCENARIOTAG)\n",
    "outfile = open(OUT_PATH,'w')\n",
    "outfile.write('m1,m2,chi1,chi2,Lambda1,Lambda2,dl,snr,dec,ra,theta_jn,psi,phase\\n')\n",
    "\n",
    "pop = np.genfromtxt(POP_PATH,names=True,delimiter=',',dtype=None,encoding=None) # load population\n",
    "\n",
    "snrs = pop['snr']\n",
    "m1s = pop['m1']\n",
    "m2s = pop['m2']\n",
    "L1s = pop['Lambda1']\n",
    "L2s = pop['Lambda2']\n",
    "chi1s = pop['chi1']\n",
    "chi2s = pop['chi2']\n",
    "dls = pop['dl']\n",
    "decs = pop['dec']\n",
    "ras = pop['ra']\n",
    "thetajns = pop['theta_jn']\n",
    "psis = pop['psi']\n",
    "phases = pop['phase']\n",
    "\n",
    "mcs = mchirp_from_mass1_mass2(m1s,m2s)\n",
    "qs = q_from_mass1_mass2(m1s,m2s)\n",
    "Lts = lambdatilde(L1s,L2s,m1s,m2s)\n",
    "DLts = Deltalambdatilde(L1s,L2s,m2s/m1s)\n",
    "\n",
    "dmcs = [GW170817dmc*GW170817snr/snr for snr in snrs]\n",
    "dqs = [GW170817dq*GW170817snr/snr for snr in snrs]\n",
    "dLts = [GW170817dLt*GW170817snr/snr for snr in snrs]\n",
    "dDLts = [GW170817dDLt*GW170817snr/snr for snr in snrs]\n",
    "\n",
    "i = 0\n",
    "for k,(snr,mc,dmc,q,dq,Lt,dLt,DLt,dDLt) in enumerate(zip(snrs,mcs,dmcs,qs,dqs,Lts,dLts,DLts,dDLts)):\n",
    "    \n",
    "    if k > npop: break\n",
    "    \n",
    "    if snr <= 12.: continue # impose detection threshold of snr 12\n",
    "    \n",
    "    outfile.write('{0:.6f},{1:.6f},{2:.6f},{3:.6f},{4:.6f},{5:.6f},{6:.6f},{7:.6f},{8:.6f},{9:.6f},{10:.6f},{11:.6f},{12:.6f}\\n'.format(m1s[k],m2s[k],chi1s[k],chi2s[k],L1s[k],L2s[k],dls[k],snrs[k],decs[k],ras[k],thetajns[k],psis[k],phases[k]))\n",
    "    \n",
    "    m1_samps, m2_samps, L1_samps, L2_samps = [], [], [], []\n",
    "    \n",
    "    for j in range(nsamps):\n",
    "    \n",
    "        m1_samp, m2_samp, mc_samp, q_samp, Lt_samp, L1_samp, L2_samp = [-1.,-1.,-1.,-1.,-1.,-1.,-1.]\n",
    "        \n",
    "        while m1_samp < 0. or m2_samp < 0. or mc_samp < 0. or q_samp < 0. or q_samp > 1.:\n",
    "            mc_samp = np.random.normal(mc+noise*np.random.normal(0.,dmc/1.645),dmc/1.645)\n",
    "            q_samp = np.random.normal(q+noise*0.3*np.random.normal(0.,dq/1.645),dq/1.645)\n",
    "            # including white noise with same standard deviation that moves the median, same correction factors as in https://arxiv.org/abs/2003.04880\n",
    "            m1_samp, m2_samp = mcq_to_m1m2(mc_samp,q_samp)\n",
    "            \n",
    "        while (L1_samp < 0.) or (L2_samp < 0.) or (L1_samp > L2_samp) or Lt_samp < 0.:\n",
    "                \n",
    "            Lt_samp = np.random.normal(Lt+noise*0.5*np.random.normal(0.,dLt/1.645),dLt/1.645)\n",
    "            DLt_samp = np.random.normal(DLt+noise*0.*np.random.normal(0.,dDLt/1.645),dDLt/1.645)\n",
    "            # including white noise with same standard deviation that moves the median, same correction factors as in https://arxiv.org/abs/2003.04880\n",
    "            L1_samp, L2_samp = Lambda1_of_tilde(Lt_samp,DLt_samp,m1_samp,m2_samp), Lambda2_of_tilde(Lt_samp,DLt_samp,m1_samp,m2_samp)\n",
    "    \n",
    "        m1_samps += [m1_samp]\n",
    "        m2_samps += [m2_samp]\n",
    "        L1_samps += [L1_samp]\n",
    "        L2_samps += [L2_samp]\n",
    "          \n",
    "    if noise == 0.: np.savetxt('./dat/zeronoise_{1}_unif_BNS_DBHF2010/BNS_{0}.csv'.format(i,SCENARIO+SCENARIOTAG),np.column_stack([m1_samps,m2_samps,L1_samps,L2_samps]),delimiter=',',comments='',header='m1,m2,Lambda1,Lambda2')\n",
    "    else: np.savetxt('./dat/{1}_unif_BNS_DBHF2010/BNS_{0}.csv'.format(i,SCENARIO+SCENARIOTAG),np.column_stack([m1_samps,m2_samps,L1_samps,L2_samps]),delimiter=',',comments='',header='m1,m2,Lambda1,Lambda2')\n",
    "\n",
    "    i += 1\n",
    "    \n",
    "outfile.close()"
   ]
  },
  {
   "cell_type": "code",
   "execution_count": null,
   "metadata": {
    "Collapsed": "false"
   },
   "outputs": [],
   "source": [
    "# plot one set of samples to see what they look like\n",
    "\n",
    "if noise == 0.: bnsdat = np.genfromtxt('./dat/zeronoise_{0}_unif_BNS_DBHF2010/BNS_0.csv'.format(SCENARIO+SCENARIOTAG),names=True,delimiter=',',dtype=None,encoding=None)\n",
    "else: bnsdat = np.genfromtxt('./dat/{0}_unif_BNS_DBHF2010/BNS_0.csv'.format(SCENARIO+SCENARIOTAG),names=True,delimiter=',',dtype=None,encoding=None)\n",
    "\n",
    "sns.kdeplot(bnsdat['m2'],bnsdat['m1'],levels=[0.1,0.5],color='k')\n",
    "plt.scatter(bnsdat['m2'],bnsdat['m1'],marker='.')\n",
    "plt.xlim(0.5,3.)\n",
    "plt.ylim(0.5,3.)\n",
    "plt.xlabel('m2 [Msun]')\n",
    "plt.ylabel('m1 [Msun]')\n",
    "plt.show()\n",
    "\n",
    "sns.kdeplot(lambdatilde(bnsdat['Lambda1'],bnsdat['Lambda2'],bnsdat['m1'],bnsdat['m2']),color='b')\n",
    "plt.xlim(0.,5000.)\n",
    "plt.xlabel('Lambda_tilde')\n",
    "plt.ylabel('probability density')\n",
    "plt.show()"
   ]
  }
 ],
 "metadata": {
  "kernelspec": {
   "display_name": "Python 3 (ipykernel)",
   "language": "python",
   "name": "python3"
  },
  "language_info": {
   "codemirror_mode": {
    "name": "ipython",
    "version": 3
   },
   "file_extension": ".py",
   "mimetype": "text/x-python",
   "name": "python",
   "nbconvert_exporter": "python",
   "pygments_lexer": "ipython3",
   "version": "3.7.10"
  }
 },
 "nbformat": 4,
 "nbformat_minor": 4
}
