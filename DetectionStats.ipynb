{
 "cells": [
  {
   "cell_type": "code",
   "execution_count": null,
   "id": "1f4a10b3-559c-420d-b1b8-e7a9653a7029",
   "metadata": {},
   "outputs": [],
   "source": [
    "### POPPLOTS.IPYNB -- plots of twin-star binary tidal deformability vs chirp mass distributions"
   ]
  },
  {
   "cell_type": "code",
   "execution_count": 1,
   "id": "8c711197-38e0-4ca1-b555-03949c8c81b2",
   "metadata": {},
   "outputs": [],
   "source": [
    "import numpy as np\n",
    "\n",
    "DATDIR = './dat/'"
   ]
  },
  {
   "cell_type": "code",
   "execution_count": 6,
   "id": "801e654b-1f37-468e-a103-821e07ef1330",
   "metadata": {},
   "outputs": [
    {
     "name": "stdout",
     "output_type": "stream",
     "text": [
      "SKI52006 O5 9.9 0.66\n",
      "SKI52006 O5y2 18.1 0.6033333333333334\n",
      "SKI52006 3Gd1 16.7 1.04375\n",
      "SKI52006 3Gw1 109.5 0.9776785714285714\n",
      "SKI52006 3Gm1 469.9 0.9708677685950413\n",
      "SKI52009 O5 8.9 0.5933333333333334\n",
      "SKI52009 O5y2 16.8 0.56\n",
      "SKI52009 3Gd1 16.6 1.0375\n",
      "SKI52009 3Gw1 108.7 0.9705357142857143\n",
      "SKI52009 3Gm1 466.1 0.9630165289256198\n",
      "SKI5 O5 10.3 0.6866666666666668\n",
      "SKI5 O5y2 18.4 0.6133333333333333\n",
      "SKI5 3Gd1 16.6 1.0375\n",
      "SKI5 3Gw1 109.7 0.9794642857142858\n",
      "SKI5 3Gm1 467.4 0.9657024793388429\n",
      "SK2722506 O5 9.2 0.6133333333333333\n",
      "SK2722506 O5y2 16.8 0.56\n",
      "SK2722506 3Gd1 16.4 1.025\n",
      "SK2722506 3Gw1 109.9 0.9812500000000001\n",
      "SK2722506 3Gm1 466.4 0.9636363636363636\n",
      "SK2723505 O5 9.8 0.6533333333333334\n",
      "SK2723505 O5y2 17.0 0.5666666666666667\n",
      "SK2723505 3Gd1 15.9 0.99375\n",
      "SK2723505 3Gw1 108.1 0.9651785714285713\n",
      "SK2723505 3Gm1 464.3 0.959297520661157\n",
      "SK272 O5 10.0 0.6666666666666666\n",
      "SK272 O5y2 18.1 0.6033333333333334\n",
      "SK272 3Gd1 16.5 1.03125\n",
      "SK272 3Gw1 109.6 0.9785714285714285\n",
      "SK272 3Gm1 467.2 0.965289256198347\n"
     ]
    }
   ],
   "source": [
    "eoss = ['SKI52006','SKI52009','SKI5','SK2722506','SK2723505','SK272']\n",
    "short_scenarios = ['O5','O5','3G','3G','3G']\n",
    "scenarios = ['O5','O5y2','3Gd1','3Gw1','3Gm1']\n",
    "scenario_dict = {'O5': 15, 'O5y2': 30, '3Gd1': 16, '3Gw1': 112, '3Gm1': 484}\n",
    "pops = ['v0','v1','v2','v3','v4', 'v5','v6','v7','v8','v9']\n",
    "\n",
    "for eos in eoss:\n",
    "    for i,scenario in enumerate(scenarios):\n",
    "        \n",
    "        num_events = []\n",
    "        \n",
    "        for pop in pops:\n",
    "            \n",
    "            detpath = DATDIR+'unif_BNS_{1}{2}/{0}_unif_BNS_{1}_detected-{3}.csv'.format(short_scenarios[i],eos,pop,scenario)\n",
    "            detdat = np.genfromtxt(detpath,names=True,delimiter=',',dtype=None)\n",
    "            num_events += [len(detdat['mc'])]\n",
    "            \n",
    "        print(eos,scenario,np.mean(num_events),np.mean(num_events)/scenario_dict[scenario])"
   ]
  }
 ],
 "metadata": {
  "kernelspec": {
   "display_name": "igwn-py39",
   "language": "python",
   "name": "igwn-py39"
  },
  "language_info": {
   "codemirror_mode": {
    "name": "ipython",
    "version": 3
   },
   "file_extension": ".py",
   "mimetype": "text/x-python",
   "name": "python",
   "nbconvert_exporter": "python",
   "pygments_lexer": "ipython3",
   "version": "3.9.13"
  }
 },
 "nbformat": 4,
 "nbformat_minor": 5
}
