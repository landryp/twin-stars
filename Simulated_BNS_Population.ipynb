{
 "cells": [
  {
   "cell_type": "code",
   "execution_count": 1,
   "metadata": {
    "id": "GuXZy1kPnidU"
   },
   "outputs": [],
   "source": [
    "### SIMULATED_BNS_POPULATION.IPYNB -- model an astrophysically plausible merging BNS population, and sample masses, spins and tidal deformabilities from it"
   ]
  },
  {
   "cell_type": "code",
   "execution_count": 2,
   "metadata": {
    "id": "7wYM7wvMnwZm"
   },
   "outputs": [],
   "source": [
    "# load packages\n",
    "\n",
    "import numpy as np\n",
    "from scipy.interpolate import interp1d\n",
    "import matplotlib.pyplot as plt\n",
    "import seaborn as sns"
   ]
  },
  {
   "cell_type": "code",
   "execution_count": 3,
   "metadata": {
    "colab": {
     "base_uri": "https://localhost:8080/"
    },
    "id": "bK_LHQ77n78L",
    "outputId": "6fb80cb3-e25f-406a-8edf-9a4c57de46e4"
   },
   "outputs": [
    {
     "name": "stdout",
     "output_type": "stream",
     "text": [
      "Defaulting to user installation because normal site-packages is not writeable\n",
      "Requirement already satisfied: bilby in /home/philippe.landry/.local/lib/python3.7/site-packages (1.1.5)\n",
      "Requirement already satisfied: scipy>=1.5 in /home/philippe.landry/.local/lib/python3.7/site-packages (from bilby) (1.5.2)\n",
      "Requirement already satisfied: dill in /home/philippe.landry/.local/lib/python3.7/site-packages (from bilby) (0.3.5.1)\n",
      "Requirement already satisfied: tqdm in /opt/conda3/lib/python3.7/site-packages (from bilby) (4.62.2)\n",
      "Requirement already satisfied: numpy in /opt/conda3/lib/python3.7/site-packages (from bilby) (1.21.2)\n",
      "Requirement already satisfied: pandas in /home/philippe.landry/.local/lib/python3.7/site-packages (from bilby) (1.1.0)\n",
      "Requirement already satisfied: tables in /home/philippe.landry/.local/lib/python3.7/site-packages (from bilby) (3.7.0)\n",
      "Requirement already satisfied: attrs in /opt/conda3/lib/python3.7/site-packages (from bilby) (21.2.0)\n",
      "Requirement already satisfied: corner in /home/philippe.landry/.local/lib/python3.7/site-packages (from bilby) (2.2.1)\n",
      "Requirement already satisfied: mock in /home/philippe.landry/.local/lib/python3.7/site-packages (from bilby) (4.0.3)\n",
      "Requirement already satisfied: matplotlib>=2.1 in /opt/conda3/lib/python3.7/site-packages (from bilby) (3.4.3)\n",
      "Requirement already satisfied: dynesty<1.1 in /home/philippe.landry/.local/lib/python3.7/site-packages (from bilby) (1.0.1)\n",
      "Requirement already satisfied: astropy in /home/philippe.landry/.local/lib/python3.7/site-packages (from bilby) (4.3.1)\n",
      "Requirement already satisfied: emcee in /home/philippe.landry/.local/lib/python3.7/site-packages (from bilby) (3.1.2)\n",
      "Requirement already satisfied: h5py in /home/philippe.landry/.local/lib/python3.7/site-packages (from bilby) (3.7.0)\n",
      "Requirement already satisfied: six in /opt/conda3/lib/python3.7/site-packages (from dynesty<1.1->bilby) (1.16.0)\n",
      "Requirement already satisfied: pyparsing>=2.2.1 in /opt/conda3/lib/python3.7/site-packages (from matplotlib>=2.1->bilby) (2.4.7)\n",
      "Requirement already satisfied: kiwisolver>=1.0.1 in /opt/conda3/lib/python3.7/site-packages (from matplotlib>=2.1->bilby) (1.3.2)\n",
      "Requirement already satisfied: pillow>=6.2.0 in /opt/conda3/lib/python3.7/site-packages (from matplotlib>=2.1->bilby) (8.3.1)\n",
      "Requirement already satisfied: python-dateutil>=2.7 in /opt/conda3/lib/python3.7/site-packages (from matplotlib>=2.1->bilby) (2.8.2)\n",
      "Requirement already satisfied: cycler>=0.10 in /opt/conda3/lib/python3.7/site-packages (from matplotlib>=2.1->bilby) (0.10.0)\n",
      "Requirement already satisfied: importlib-metadata in /opt/conda3/lib/python3.7/site-packages (from astropy->bilby) (4.8.1)\n",
      "Requirement already satisfied: pyerfa>=1.7.3 in /home/philippe.landry/.local/lib/python3.7/site-packages (from astropy->bilby) (2.0.0.1)\n",
      "Requirement already satisfied: typing-extensions>=3.6.4 in /home/philippe.landry/.local/lib/python3.7/site-packages (from importlib-metadata->astropy->bilby) (3.7.4.3)\n",
      "Requirement already satisfied: zipp>=0.5 in /opt/conda3/lib/python3.7/site-packages (from importlib-metadata->astropy->bilby) (3.5.0)\n",
      "Requirement already satisfied: pytz>=2017.2 in /home/philippe.landry/.local/lib/python3.7/site-packages (from pandas->bilby) (2020.1)\n",
      "Requirement already satisfied: numexpr>=2.6.2 in /home/philippe.landry/.local/lib/python3.7/site-packages (from tables->bilby) (2.8.1)\n",
      "Requirement already satisfied: packaging in /opt/conda3/lib/python3.7/site-packages (from tables->bilby) (21.0)\n",
      "Defaulting to user installation because normal site-packages is not writeable\n",
      "Requirement already satisfied: lalsuite in /home/philippe.landry/.local/lib/python3.7/site-packages (6.82)\n",
      "Requirement already satisfied: numpy>=1.7 in /opt/conda3/lib/python3.7/site-packages (from lalsuite) (1.21.2)\n",
      "Requirement already satisfied: scipy in /home/philippe.landry/.local/lib/python3.7/site-packages (from lalsuite) (1.5.2)\n",
      "Requirement already satisfied: ligo-segments in /home/philippe.landry/.local/lib/python3.7/site-packages (from lalsuite) (1.3.0)\n",
      "Requirement already satisfied: python-dateutil in /opt/conda3/lib/python3.7/site-packages (from lalsuite) (2.8.2)\n",
      "Requirement already satisfied: lscsoft-glue in /home/philippe.landry/.local/lib/python3.7/site-packages (from lalsuite) (2.0.0)\n",
      "Requirement already satisfied: matplotlib in /opt/conda3/lib/python3.7/site-packages (from lalsuite) (3.4.3)\n",
      "Requirement already satisfied: six in /opt/conda3/lib/python3.7/site-packages (from ligo-segments->lalsuite) (1.16.0)\n",
      "Requirement already satisfied: pyOpenSSL in /opt/conda3/lib/python3.7/site-packages (from lscsoft-glue->lalsuite) (20.0.1)\n",
      "Requirement already satisfied: cycler>=0.10 in /opt/conda3/lib/python3.7/site-packages (from matplotlib->lalsuite) (0.10.0)\n",
      "Requirement already satisfied: pillow>=6.2.0 in /opt/conda3/lib/python3.7/site-packages (from matplotlib->lalsuite) (8.3.1)\n",
      "Requirement already satisfied: pyparsing>=2.2.1 in /opt/conda3/lib/python3.7/site-packages (from matplotlib->lalsuite) (2.4.7)\n",
      "Requirement already satisfied: kiwisolver>=1.0.1 in /opt/conda3/lib/python3.7/site-packages (from matplotlib->lalsuite) (1.3.2)\n",
      "Requirement already satisfied: cryptography>=3.2 in /opt/conda3/lib/python3.7/site-packages (from pyOpenSSL->lscsoft-glue->lalsuite) (3.4.7)\n",
      "Requirement already satisfied: cffi>=1.12 in /opt/conda3/lib/python3.7/site-packages (from cryptography>=3.2->pyOpenSSL->lscsoft-glue->lalsuite) (1.14.6)\n",
      "Requirement already satisfied: pycparser in /opt/conda3/lib/python3.7/site-packages (from cffi>=1.12->cryptography>=3.2->pyOpenSSL->lscsoft-glue->lalsuite) (2.20)\n"
     ]
    }
   ],
   "source": [
    "# import sodapop\n",
    "\n",
    "! python3 -m pip install bilby # only need to run this once\n",
    "! python3 -m pip install lalsuite # only need to run this once\n",
    "\n",
    "import bilby\n",
    "import lal\n",
    "import lalsimulation as lalsim\n",
    "import astropy.units as u\n",
    "from astropy.coordinates import Distance\n",
    "from astropy.cosmology import Planck15 as cosmo"
   ]
  },
  {
   "cell_type": "code",
   "execution_count": 4,
   "metadata": {
    "id": "oJ9chvFQ6Nj3"
   },
   "outputs": [],
   "source": [
    "# user input\n",
    "\n",
    "SCENARIO = 'O5' # O4, O5, 3G\n",
    "\n",
    "NUM_SAMPLES = {'O4': 4, 'O5': 2*17, '3G': 5823}[SCENARIO] # number of samples to draw; based on astrophysical rate estimates within detector horizon\n",
    "# \\sout{this should be much larger than 10, 40 and 300000, which are reasonable yearly detection rates for O4, O5 and 3G, since it also includes undetected events}\n",
    "# see https://arxiv.org/abs/2204.07592, https://arxiv.org/abs/2204.12504, https://arxiv.org/abs/2003.04880, https://arxiv.org/abs/2111.03634, https://arxiv.org/abs/1304.0670, https://arxiv.org/abs/2109.09882\n",
    "\n",
    "OUTPUT_PATH = './dat/{0}_unif_BNS_DBHF2010/BNS_MassesSpinsLambdas.csv'.format(SCENARIO)\n",
    "\n",
    "EOS_PATH = './etc/macro-DBHF_2010.csv' # EOS M-Lambda table\n",
    "\n",
    "MMIN = 1.0 # minimum NS mass on grid\n",
    "MMAX = 2.3 # maximum NS mass on grid\n",
    "\n",
    "def NS_MASS_PDF(m,params): # NS mass distribution probability density function\n",
    "\n",
    "  mmin, mmax = params\n",
    "\t\n",
    "  if np.isscalar(m): m = np.array([m])\n",
    "  else: m = np.array(m)\n",
    "  z = np.zeros(len(m))\n",
    "\t\n",
    "  p = np.full(len(m),1./(mmax-mmin)) # uniform mass distribution\n",
    "\n",
    "  return np.where((m > mmax) | (m < mmin), z, p) # this enforces the mmin and mmax cutoffs\n",
    "\n",
    "def BNS_MASS_PDF(m1,m2,params): # BNS mass distribution probability density function\n",
    "\n",
    "  if np.isscalar(m1): m1 = np.array([m1])\n",
    "  else: m1 = np.array(m1)\n",
    "  if np.isscalar(m2): m2 = np.array([m2])\n",
    "  else: m2 = np.array(m2)\n",
    "  z = np.zeros(len(m1))\n",
    "\n",
    "  p = NS_MASS_PDF(m1,params)*NS_MASS_PDF(m2,params) # random pairing of m1, m2 drawn from same underlying NS mass distribution\n",
    "\t\n",
    "  return np.where(m1 < m2, z, p) # this enforces m2 < m1\n",
    "\n",
    "CHI1MAX = 0.05\n",
    "CHI2MAX = 0.01\n",
    "\n",
    "def SPIN_PDF(chi,params): # spin distribution probability density function\n",
    "\n",
    "  chimin, chimax = params\n",
    "\t\n",
    "  if np.isscalar(chi): chi = np.array([chi])\n",
    "  else: chi = np.array(chi)\n",
    "  z = np.zeros(len(chi))\n",
    "\t\n",
    "  p = np.full(len(chi),1./(chimax-chimin)) # uniform spin distribution\n",
    "\t\n",
    "  return np.where((chi > chimax) | (chi < chimin), z, p) # this enforces the chimin and chimax cutoffs\n",
    "\n",
    "ZMIN = 1e-6\n",
    "DLMIN = Distance(z=ZMIN, unit=u.Mpc).value\n",
    "DLMAX = {'O4': 200., 'O5': 350., '3G': 3000.}[SCENARIO] # Mpc; 200, 350, 100000 are reasonable range estimates for O4, O5, 3G; see https://arxiv.org/abs/1304.0670, https://arxiv.org/abs/2109.09882\n",
    "\n",
    "def SFR(z): # star formation rate as a function of redshift\n",
    "    \n",
    "    if np.isscalar(z): z = np.array([z])\n",
    "    else: z = np.array(z)\n",
    "    \n",
    "    return  (1.+1./2.9**5.6)*(1.+z)**2.7/(1.+((1.+z)/2.9)**5.6) # Madau-Dickinson SFR, up to normalization\n",
    "\n",
    "def DL_PDF(dl,params): # luminosity distance distribution probability density function\n",
    "\n",
    "  dlmin, dlmax = params\n",
    "\t\n",
    "  if np.isscalar(dl): dl = np.array([dl])\n",
    "  else: dl = np.array(dl)\n",
    "  Z = np.zeros(len(dl))\n",
    "\t\n",
    "  z = np.array([Distance(d,unit=u.Mpc).compute_z(cosmology=cosmo) for d in dl])\n",
    "  p = 4.*np.pi*dl**2*SFR(z)/(cosmo.H(z).value*(1.+z)**3) # uniform in comoving volume distribution, with Madau-Dickinson SFR; see https://arxiv.org/abs/1505.05607, https://arxiv.org/abs/1805.10270\n",
    "\t\n",
    "  return np.where((dl > dlmax) | (dl < dlmin), Z, p) # this enforces the dlmin and dlmax cutoffs"
   ]
  },
  {
   "cell_type": "code",
   "execution_count": 5,
   "metadata": {
    "id": "qIVEBOzf6VJv"
   },
   "outputs": [],
   "source": [
    "# get M-Lambda relation\n",
    "\n",
    "eos_dat = np.genfromtxt(EOS_PATH,names=True,delimiter=',',dtype=None,encoding=None) # load EOS table\n",
    "Ms = eos_dat['M']\n",
    "Lambdas = eos_dat['Lambda']\n",
    "\n",
    "Mmax_pos = np.argmax(Ms) # truncate table at maximum NS mass\n",
    "Ms = Ms[:Mmax_pos+1]\n",
    "Mmax = Ms[-1]\n",
    "Lambdas = Lambdas[:Mmax_pos+1]\n",
    "\n",
    "onset = np.where(np.gradient(Ms) < 0.)[0][0]\n",
    "offset = np.where(np.gradient(Ms) < 0.)[0][-1]+1\n",
    "\n",
    "Mtwin_f = Ms[onset]\n",
    "Mtwin_i = Ms[offset]\n",
    "\n",
    "hadron = np.where(Ms <= Mtwin_i)[0][-2]\n",
    "hybrid = np.where(Ms <= Mtwin_f)[0][-2]\n",
    "\n",
    "Lambda_of_M_pre = interp1d(Ms[:hadron+2],Lambdas[:hadron+2],kind='linear',bounds_error=True) # interpolate Lambda(M) function\n",
    "Lambda_of_M_post = interp1d(Ms[hybrid:],Lambdas[hybrid:],kind='linear',bounds_error=True)\n",
    "Lambda_of_M_hadron = interp1d(Ms[hadron:onset+3],Lambdas[hadron:onset+3],kind='linear',bounds_error=True)\n",
    "Lambda_of_M_hybrid = interp1d(Ms[offset:hybrid+3],Lambdas[offset:hybrid+3],kind='linear',bounds_error=True)\n",
    "\n",
    "def Lambda_of_M(m):\n",
    "    \n",
    "    if m < Mtwin_i: return Lambda_of_M_pre(m)\n",
    "\n",
    "    elif m >= Mtwin_f: return Lambda_of_M_post(m)\n",
    "\n",
    "    else: \n",
    "        branch = np.random.randint(0,2,1)[0]\n",
    "        branches = [Lambda_of_M_hadron, Lambda_of_M_hybrid]\n",
    "        return branches[branch](m)"
   ]
  },
  {
   "cell_type": "code",
   "execution_count": 6,
   "metadata": {
    "id": "edgap5BP664K"
   },
   "outputs": [],
   "source": [
    "# get mass samples\n",
    "\n",
    "m_grid = np.arange(max(MMIN,min(Ms)),min(MMAX,max(Ms)),0.001) # regular grid in NS masses\n",
    "\n",
    "m1m2_grid = []\n",
    "for m1 in m_grid:\n",
    "    for m2 in m_grid:\n",
    "        m1m2_grid += [(m1,m2)] # regular 2D grid in BNS masses\n",
    "\n",
    "m1s_grid = np.array([m1 for m1,m2 in m1m2_grid]) # m1 points from the 2D grid\n",
    "m2s_grid = np.array([m2 for m1,m2 in m1m2_grid]) # m2 points from the 2D grid\n",
    "grid_pts = range(len(m1m2_grid)) # label each point in 2D grid\n",
    "\n",
    "m1m2_wts = BNS_MASS_PDF(m1s_grid,m2s_grid,(MMIN,Mmax)) # weight each binary mass grid point by its probability according to the chosen BNS mass distribution, and truncate at the EOS's Mmax\n",
    "\n",
    "sample_pts = np.random.choice(grid_pts,NUM_SAMPLES,replace=True,p=m1m2_wts/np.sum(m1m2_wts)) # draw samples from BNS mass distribution\n",
    "m1s = m1s_grid[sample_pts]\n",
    "m2s = m2s_grid[sample_pts]"
   ]
  },
  {
   "cell_type": "code",
   "execution_count": 7,
   "metadata": {
    "id": "DWGXcRJ769H5"
   },
   "outputs": [
    {
     "data": {
      "image/png": "[encoded data removed]",
      "text/plain": [
       "<Figure size 432x288 with 1 Axes>"
      ]
     },
     "metadata": {
      "needs_background": "light"
     },
     "output_type": "display_data"
    }
   ],
   "source": [
    "# get corresponding Lambda samples\n",
    "\n",
    "Lambda1s = np.array([Lambda_of_M(m1) for m1 in m1s]) # use interpolated M-Lambda relation\n",
    "Lambda2s = np.array([Lambda_of_M(m2) for m2 in m2s])\n",
    "\n",
    "plt.plot(m_grid,[Lambda_of_M(m) for m in m_grid])\n",
    "plt.yscale('log')"
   ]
  },
  {
   "cell_type": "code",
   "execution_count": 8,
   "metadata": {
    "id": "VQsr66Kg6-a_"
   },
   "outputs": [],
   "source": [
    "# get spin samples\n",
    "\n",
    "chi_grid = np.arange(0.,1.,0.001) # regular grid in NS spins\n",
    "\n",
    "chi1_wts = SPIN_PDF(chi_grid,(0.,CHI1MAX))\n",
    "chi2_wts = SPIN_PDF(chi_grid,(0.,CHI2MAX))\n",
    "\n",
    "chi1s = np.random.choice(chi_grid,NUM_SAMPLES,replace=True,p=chi1_wts/np.sum(chi1_wts)) # draw samples from spin distributions\n",
    "chi2s = np.random.choice(chi_grid,NUM_SAMPLES,replace=True,p=chi2_wts/np.sum(chi2_wts))"
   ]
  },
  {
   "cell_type": "code",
   "execution_count": 9,
   "metadata": {
    "id": "s9hbB0HS9prX"
   },
   "outputs": [],
   "source": [
    "# get luminosity distance samples\n",
    "\n",
    "dl_grid = np.arange(DLMIN,DLMAX,0.1) # regular grid in luminosity distance\n",
    "\n",
    "dl_wts = DL_PDF(dl_grid,(DLMIN,DLMAX))\n",
    "\n",
    "dls = np.random.choice(dl_grid,NUM_SAMPLES,replace=True,p=dl_wts/np.sum(dl_wts))"
   ]
  },
  {
   "cell_type": "code",
   "execution_count": 10,
   "metadata": {
    "id": "Auevt-B2NjHN"
   },
   "outputs": [],
   "source": [
    "# sample in sky location parameters\n",
    "\n",
    "dec_grid = np.arange(0.,2.*np.pi,0.01)\n",
    "dec_wts = [np.abs(np.cos(dec)) for dec in dec_grid]\n",
    "decs = np.random.choice(dec_grid,NUM_SAMPLES,replace=True,p=dec_wts/np.sum(dec_wts))\n",
    "\n",
    "thetajn_grid = np.arange(0.,2.*np.pi,0.01)\n",
    "thetajn_wts = [np.abs(np.sin(thetajn)) for thetajn in thetajn_grid]\n",
    "thetajns = np.random.choice(thetajn_grid,NUM_SAMPLES,replace=True,p=thetajn_wts/np.sum(thetajn_wts))\n",
    "\n",
    "ras = np.random.uniform(0.,2.*np.pi,NUM_SAMPLES)\n",
    "psis = np.random.uniform(0.,np.pi,NUM_SAMPLES)\n",
    "phases = np.random.uniform(0.,2.*np.pi,NUM_SAMPLES)"
   ]
  },
  {
   "cell_type": "code",
   "execution_count": 11,
   "metadata": {
    "colab": {
     "base_uri": "https://localhost:8080/"
    },
    "id": "uMQRoDME9-3b",
    "outputId": "a8962d91-3a26-4e07-c763-628bfae7998b"
   },
   "outputs": [
    {
     "name": "stderr",
     "output_type": "stream",
     "text": [
      "20:40 bilby INFO    : Waveform generator initiated with\n",
      "  frequency_domain_source_model: bilby.gw.source.lal_binary_neutron_star\n",
      "  time_domain_source_model: None\n",
      "  parameter_conversion: bilby.gw.conversion.convert_to_lal_binary_neutron_star_parameters\n",
      "20:40 bilby INFO    : Waveform generator initiated with\n",
      "  frequency_domain_source_model: bilby.gw.source.lal_binary_neutron_star\n",
      "  time_domain_source_model: None\n",
      "  parameter_conversion: bilby.gw.conversion.convert_to_lal_binary_neutron_star_parameters\n",
      "20:40 bilby INFO    : Waveform generator initiated with\n",
      "  frequency_domain_source_model: bilby.gw.source.lal_binary_neutron_star\n",
      "  time_domain_source_model: None\n",
      "  parameter_conversion: bilby.gw.conversion.convert_to_lal_binary_neutron_star_parameters\n",
      "20:40 bilby INFO    : Waveform generator initiated with\n",
      "  frequency_domain_source_model: bilby.gw.source.lal_binary_neutron_star\n",
      "  time_domain_source_model: None\n",
      "  parameter_conversion: bilby.gw.conversion.convert_to_lal_binary_neutron_star_parameters\n",
      "20:40 bilby INFO    : Waveform generator initiated with\n",
      "  frequency_domain_source_model: bilby.gw.source.lal_binary_neutron_star\n",
      "  time_domain_source_model: None\n",
      "  parameter_conversion: bilby.gw.conversion.convert_to_lal_binary_neutron_star_parameters\n",
      "20:40 bilby INFO    : Waveform generator initiated with\n",
      "  frequency_domain_source_model: bilby.gw.source.lal_binary_neutron_star\n",
      "  time_domain_source_model: None\n",
      "  parameter_conversion: bilby.gw.conversion.convert_to_lal_binary_neutron_star_parameters\n",
      "20:40 bilby INFO    : Waveform generator initiated with\n",
      "  frequency_domain_source_model: bilby.gw.source.lal_binary_neutron_star\n",
      "  time_domain_source_model: None\n",
      "  parameter_conversion: bilby.gw.conversion.convert_to_lal_binary_neutron_star_parameters\n",
      "20:40 bilby INFO    : Waveform generator initiated with\n",
      "  frequency_domain_source_model: bilby.gw.source.lal_binary_neutron_star\n",
      "  time_domain_source_model: None\n",
      "  parameter_conversion: bilby.gw.conversion.convert_to_lal_binary_neutron_star_parameters\n",
      "20:40 bilby INFO    : Waveform generator initiated with\n",
      "  frequency_domain_source_model: bilby.gw.source.lal_binary_neutron_star\n",
      "  time_domain_source_model: None\n",
      "  parameter_conversion: bilby.gw.conversion.convert_to_lal_binary_neutron_star_parameters\n",
      "20:40 bilby INFO    : Waveform generator initiated with\n",
      "  frequency_domain_source_model: bilby.gw.source.lal_binary_neutron_star\n",
      "  time_domain_source_model: None\n",
      "  parameter_conversion: bilby.gw.conversion.convert_to_lal_binary_neutron_star_parameters\n",
      "20:40 bilby INFO    : Waveform generator initiated with\n",
      "  frequency_domain_source_model: bilby.gw.source.lal_binary_neutron_star\n",
      "  time_domain_source_model: None\n",
      "  parameter_conversion: bilby.gw.conversion.convert_to_lal_binary_neutron_star_parameters\n",
      "20:40 bilby INFO    : Waveform generator initiated with\n",
      "  frequency_domain_source_model: bilby.gw.source.lal_binary_neutron_star\n",
      "  time_domain_source_model: None\n",
      "  parameter_conversion: bilby.gw.conversion.convert_to_lal_binary_neutron_star_parameters\n",
      "20:40 bilby INFO    : Waveform generator initiated with\n",
      "  frequency_domain_source_model: bilby.gw.source.lal_binary_neutron_star\n",
      "  time_domain_source_model: None\n",
      "  parameter_conversion: bilby.gw.conversion.convert_to_lal_binary_neutron_star_parameters\n",
      "20:40 bilby INFO    : Waveform generator initiated with\n",
      "  frequency_domain_source_model: bilby.gw.source.lal_binary_neutron_star\n",
      "  time_domain_source_model: None\n",
      "  parameter_conversion: bilby.gw.conversion.convert_to_lal_binary_neutron_star_parameters\n",
      "20:40 bilby INFO    : Waveform generator initiated with\n",
      "  frequency_domain_source_model: bilby.gw.source.lal_binary_neutron_star\n",
      "  time_domain_source_model: None\n",
      "  parameter_conversion: bilby.gw.conversion.convert_to_lal_binary_neutron_star_parameters\n",
      "20:41 bilby INFO    : Waveform generator initiated with\n",
      "  frequency_domain_source_model: bilby.gw.source.lal_binary_neutron_star\n",
      "  time_domain_source_model: None\n",
      "  parameter_conversion: bilby.gw.conversion.convert_to_lal_binary_neutron_star_parameters\n",
      "20:41 bilby INFO    : Waveform generator initiated with\n",
      "  frequency_domain_source_model: bilby.gw.source.lal_binary_neutron_star\n",
      "  time_domain_source_model: None\n",
      "  parameter_conversion: bilby.gw.conversion.convert_to_lal_binary_neutron_star_parameters\n",
      "20:41 bilby INFO    : Waveform generator initiated with\n",
      "  frequency_domain_source_model: bilby.gw.source.lal_binary_neutron_star\n",
      "  time_domain_source_model: None\n",
      "  parameter_conversion: bilby.gw.conversion.convert_to_lal_binary_neutron_star_parameters\n",
      "20:41 bilby INFO    : Waveform generator initiated with\n",
      "  frequency_domain_source_model: bilby.gw.source.lal_binary_neutron_star\n",
      "  time_domain_source_model: None\n",
      "  parameter_conversion: bilby.gw.conversion.convert_to_lal_binary_neutron_star_parameters\n",
      "20:41 bilby INFO    : Waveform generator initiated with\n",
      "  frequency_domain_source_model: bilby.gw.source.lal_binary_neutron_star\n",
      "  time_domain_source_model: None\n",
      "  parameter_conversion: bilby.gw.conversion.convert_to_lal_binary_neutron_star_parameters\n",
      "20:41 bilby INFO    : Waveform generator initiated with\n",
      "  frequency_domain_source_model: bilby.gw.source.lal_binary_neutron_star\n",
      "  time_domain_source_model: None\n",
      "  parameter_conversion: bilby.gw.conversion.convert_to_lal_binary_neutron_star_parameters\n",
      "20:41 bilby INFO    : Waveform generator initiated with\n",
      "  frequency_domain_source_model: bilby.gw.source.lal_binary_neutron_star\n",
      "  time_domain_source_model: None\n",
      "  parameter_conversion: bilby.gw.conversion.convert_to_lal_binary_neutron_star_parameters\n",
      "20:41 bilby INFO    : Waveform generator initiated with\n",
      "  frequency_domain_source_model: bilby.gw.source.lal_binary_neutron_star\n",
      "  time_domain_source_model: None\n",
      "  parameter_conversion: bilby.gw.conversion.convert_to_lal_binary_neutron_star_parameters\n",
      "20:41 bilby INFO    : Waveform generator initiated with\n",
      "  frequency_domain_source_model: bilby.gw.source.lal_binary_neutron_star\n",
      "  time_domain_source_model: None\n",
      "  parameter_conversion: bilby.gw.conversion.convert_to_lal_binary_neutron_star_parameters\n",
      "20:41 bilby INFO    : Waveform generator initiated with\n",
      "  frequency_domain_source_model: bilby.gw.source.lal_binary_neutron_star\n",
      "  time_domain_source_model: None\n",
      "  parameter_conversion: bilby.gw.conversion.convert_to_lal_binary_neutron_star_parameters\n",
      "20:41 bilby INFO    : Waveform generator initiated with\n",
      "  frequency_domain_source_model: bilby.gw.source.lal_binary_neutron_star\n",
      "  time_domain_source_model: None\n",
      "  parameter_conversion: bilby.gw.conversion.convert_to_lal_binary_neutron_star_parameters\n",
      "20:41 bilby INFO    : Waveform generator initiated with\n",
      "  frequency_domain_source_model: bilby.gw.source.lal_binary_neutron_star\n",
      "  time_domain_source_model: None\n",
      "  parameter_conversion: bilby.gw.conversion.convert_to_lal_binary_neutron_star_parameters\n",
      "20:41 bilby INFO    : Waveform generator initiated with\n",
      "  frequency_domain_source_model: bilby.gw.source.lal_binary_neutron_star\n",
      "  time_domain_source_model: None\n",
      "  parameter_conversion: bilby.gw.conversion.convert_to_lal_binary_neutron_star_parameters\n",
      "20:41 bilby INFO    : Waveform generator initiated with\n",
      "  frequency_domain_source_model: bilby.gw.source.lal_binary_neutron_star\n",
      "  time_domain_source_model: None\n",
      "  parameter_conversion: bilby.gw.conversion.convert_to_lal_binary_neutron_star_parameters\n",
      "20:41 bilby INFO    : Waveform generator initiated with\n",
      "  frequency_domain_source_model: bilby.gw.source.lal_binary_neutron_star\n",
      "  time_domain_source_model: None\n",
      "  parameter_conversion: bilby.gw.conversion.convert_to_lal_binary_neutron_star_parameters\n",
      "20:41 bilby INFO    : Waveform generator initiated with\n",
      "  frequency_domain_source_model: bilby.gw.source.lal_binary_neutron_star\n",
      "  time_domain_source_model: None\n",
      "  parameter_conversion: bilby.gw.conversion.convert_to_lal_binary_neutron_star_parameters\n",
      "20:41 bilby INFO    : Waveform generator initiated with\n",
      "  frequency_domain_source_model: bilby.gw.source.lal_binary_neutron_star\n",
      "  time_domain_source_model: None\n",
      "  parameter_conversion: bilby.gw.conversion.convert_to_lal_binary_neutron_star_parameters\n",
      "20:41 bilby INFO    : Waveform generator initiated with\n",
      "  frequency_domain_source_model: bilby.gw.source.lal_binary_neutron_star\n",
      "  time_domain_source_model: None\n",
      "  parameter_conversion: bilby.gw.conversion.convert_to_lal_binary_neutron_star_parameters\n",
      "20:41 bilby INFO    : Waveform generator initiated with\n",
      "  frequency_domain_source_model: bilby.gw.source.lal_binary_neutron_star\n",
      "  time_domain_source_model: None\n",
      "  parameter_conversion: bilby.gw.conversion.convert_to_lal_binary_neutron_star_parameters\n"
     ]
    }
   ],
   "source": [
    "# calculate event signal to noise ratios (SNRs) based on its source parameters\n",
    "\n",
    "snrs = []\n",
    "\n",
    "for m1,m2,chi1,chi2,Lambda1,Lambda2,dl,dec,thetajn,ra,psi,phase in zip(m1s,m2s,chi1s,chi2s,Lambda1s,Lambda2s,dls,decs,thetajns,ras,psis,phases):\n",
    "\n",
    "  injection_parameters = dict(\n",
    "    mass_1=m1, mass_2=m2, chi_1=chi1, chi_2=chi2, luminosity_distance=dl,\n",
    "    theta_jn=thetajn, psi=psi, phase=phase, geocent_time=1126259642.413,\n",
    "    ra=ra, dec=dec, lambda_1=Lambda1, lambda_2=Lambda2)\n",
    "\n",
    "  duration = {'O4': 64, 'O5': 10*64, '3G': 10*64}[SCENARIO] # maximum duration of 90 min for 3G from https://arxiv.org/abs/2103.12274; 10 min should be ok for most signals though\n",
    "  sampling_frequency = 2 * 1024\n",
    "  start_time = injection_parameters['geocent_time'] + 2 - duration\n",
    "\n",
    "  waveform_arguments = dict(waveform_approximant='IMRPhenomPv2_NRTidal', # note: this waveform assumes aligned spins\n",
    "                          reference_frequency=50., minimum_frequency=10.0) # setting this to be lower than f_min for all of the interferometers\n",
    "  waveform_generator = bilby.gw.WaveformGenerator(\n",
    "    duration=duration, sampling_frequency=sampling_frequency,\n",
    "    frequency_domain_source_model=bilby.gw.source.lal_binary_neutron_star,\n",
    "    parameter_conversion=bilby.gw.conversion.convert_to_lal_binary_neutron_star_parameters,\n",
    "    waveform_arguments=waveform_arguments)\n",
    "\n",
    "  if SCENARIO == '3G': \n",
    "    interferometers = bilby.gw.detector.InterferometerList(['CE', 'L1', 'ET'])\n",
    "    interferometers[1].power_spectral_density = bilby.gw.detector.PowerSpectralDensity(psd_file='/home/philippe.landry/.local/lib/python3.7/site-packages/bilby/gw/detector/noise_curves/CE_psd.txt') # two CEs at HL sites, ET at V site\n",
    "  else:\n",
    "    interferometers = bilby.gw.detector.InterferometerList(['H1', 'L1', 'V1'])\n",
    "    for interferometer in interferometers:\n",
    "      #interferometer.minimum_frequency = 40 # leave this as the interferometer default, 40 Hz for O4 and 10 Hz for O5, 3G\n",
    "      if SCENARIO == 'O5' and interferometer.name != 'V1': interferometer.power_spectral_density = bilby.gw.detector.PowerSpectralDensity(asd_file='/home/philippe.landry/.local/lib/python3.7/site-packages/bilby/gw/detector/noise_curves/Aplus_asd.txt') # upgrade HL to A+ in O5\n",
    "  interferometers.set_strain_data_from_power_spectral_densities(\n",
    "    sampling_frequency=sampling_frequency, duration=duration, start_time=start_time)\n",
    "\n",
    "  injection_polarizations = waveform_generator.frequency_domain_strain(injection_parameters)\n",
    "  signal_ifos = [interferometer.get_detector_response(injection_polarizations, injection_parameters) for interferometer in interferometers]\n",
    "\n",
    "  network_snr = np.sqrt(np.sum([interferometer.optimal_snr_squared(signal=signal_ifo) for interferometer,signal_ifo in zip(interferometers,signal_ifos)])).real\n",
    "\n",
    "  snrs += [network_snr]"
   ]
  },
  {
   "cell_type": "code",
   "execution_count": 12,
   "metadata": {
    "id": "J4wkhTq6JZe-"
   },
   "outputs": [],
   "source": [
    "# extract loudest events\n",
    "\n",
    "NUM_LOUD_EVENTS = NUM_SAMPLES # for typical application, retain all the events and cut by snr 12 detection threshold and mass bin later\n",
    "loud_idxs = np.argpartition(snrs, -NUM_LOUD_EVENTS)[-NUM_LOUD_EVENTS:]\n",
    "\n",
    "loud_m1s = m1s[loud_idxs]\n",
    "loud_m2s = m2s[loud_idxs]\n",
    "loud_chi1s = chi1s[loud_idxs]\n",
    "loud_chi2s = chi2s[loud_idxs]\n",
    "loud_Lambda1s = Lambda1s[loud_idxs]\n",
    "loud_Lambda2s = Lambda2s[loud_idxs]\n",
    "loud_snrs = np.array(snrs)[loud_idxs]\n",
    "loud_dls = dls[loud_idxs]\n",
    "loud_decs = decs[loud_idxs]\n",
    "loud_ras = ras[loud_idxs]\n",
    "loud_psis = psis[loud_idxs]\n",
    "loud_phases = phases[loud_idxs]\n",
    "loud_thetajns = thetajns[loud_idxs]"
   ]
  },
  {
   "cell_type": "code",
   "execution_count": 13,
   "metadata": {
    "colab": {
     "base_uri": "https://localhost:8080/",
     "height": 1000
    },
    "id": "jgX4s30so9ny",
    "outputId": "4b8c5e92-22e4-45f6-a8a9-7a695a9288f7"
   },
   "outputs": [
    {
     "data": {
      "image/png": "[encoded data removed]",
      "text/plain": [
       "<Figure size 432x288 with 1 Axes>"
      ]
     },
     "metadata": {
      "needs_background": "light"
     },
     "output_type": "display_data"
    },
    {
     "data": {
      "image/png": "[encoded data removed]",
      "text/plain": [
       "<Figure size 432x288 with 1 Axes>"
      ]
     },
     "metadata": {
      "needs_background": "light"
     },
     "output_type": "display_data"
    },
    {
     "data": {
      "image/png": "[encoded data removed]",
      "text/plain": [
       "<Figure size 432x288 with 1 Axes>"
      ]
     },
     "metadata": {
      "needs_background": "light"
     },
     "output_type": "display_data"
    },
    {
     "data": {
      "image/png": "[encoded data removed]",
      "text/plain": [
       "<Figure size 432x288 with 1 Axes>"
      ]
     },
     "metadata": {
      "needs_background": "light"
     },
     "output_type": "display_data"
    }
   ],
   "source": [
    "# plot the mass, spin and Lambda samples\n",
    "\n",
    "plt.scatter(m1s,m2s) # scatter plot of BNS masses\n",
    "plt.scatter(loud_m1s,loud_m2s) # highlight loudest events\n",
    "\n",
    "plt.xlabel('m1 [Msun]')\n",
    "plt.ylabel('m2 [Msun]')\n",
    "plt.xlim(MMIN,MMAX)\n",
    "plt.ylim(MMIN,MMAX)\n",
    "plt.show()\n",
    "\n",
    "###\n",
    "\n",
    "plt.scatter(chi1s,chi2s) # scatter plot of BNS spins\n",
    "plt.scatter(loud_chi1s,loud_chi2s) # highlight loudest events\n",
    "\n",
    "plt.xlabel('chi1')\n",
    "plt.ylabel('chi2')\n",
    "plt.xlim(0.,0.5)\n",
    "plt.ylim(0.,0.5)\n",
    "plt.show()\n",
    "\n",
    "###\n",
    "\n",
    "plt.scatter(Lambda1s,Lambda2s) # scatter plot of BNS Lambdas\n",
    "plt.scatter(loud_Lambda1s,loud_Lambda2s) # highlight loudest events\n",
    "\n",
    "plt.xlabel('Lambda1')\n",
    "plt.ylabel('Lambda2')\n",
    "plt.xlim(0.,1000.)\n",
    "plt.ylim(0.,3000.)\n",
    "plt.show()\n",
    "\n",
    "###\n",
    "\n",
    "plt.plot(Ms,Lambdas,c='k') # m1-Lambda1 and m2-Lambda2 samples overlaid on EOS's M-Lambda relation\n",
    "plt.scatter(m1s,Lambda1s,c='b')\n",
    "plt.scatter(loud_m1s,loud_Lambda1s,c='orange') # highlight loudest events\n",
    "plt.scatter(m2s,Lambda2s,c='b')\n",
    "plt.scatter(loud_m2s,loud_Lambda2s,c='orange') # highlight loudest events\n",
    "\n",
    "plt.yscale('log')\n",
    "plt.xlabel('m [Msun]')\n",
    "plt.ylabel('Lambda')\n",
    "plt.xlim(MMIN,MMAX)\n",
    "plt.ylim(1.,5000.)\n",
    "plt.show()"
   ]
  },
  {
   "cell_type": "code",
   "execution_count": 14,
   "metadata": {
    "id": "gqfS-XD0K5tX"
   },
   "outputs": [],
   "source": [
    "# save samples to a csv file\n",
    "\n",
    "output_dat = np.column_stack((loud_m1s,loud_m2s,loud_chi1s,loud_chi2s,loud_Lambda1s,loud_Lambda2s,loud_dls,loud_snrs,loud_decs,loud_ras,loud_thetajns,loud_psis,loud_phases)) # collect data columns into an array\n",
    "cols = 'm1,m2,chi1,chi2,Lambda1,Lambda2,dl,snr,dec,ra,theta_jn,psi,phase'\n",
    "np.savetxt(OUTPUT_PATH,output_dat,delimiter=',',comments='',header=cols)"
   ]
  }
 ],
 "metadata": {
  "colab": {
   "collapsed_sections": [],
   "name": "Simulated_BNS_Population.ipynb",
   "provenance": []
  },
  "kernelspec": {
   "display_name": "Python 3 (ipykernel)",
   "language": "python",
   "name": "python3"
  },
  "language_info": {
   "codemirror_mode": {
    "name": "ipython",
    "version": 3
   },
   "file_extension": ".py",
   "mimetype": "text/x-python",
   "name": "python",
   "nbconvert_exporter": "python",
   "pygments_lexer": "ipython3",
   "version": "3.7.10"
  }
 },
 "nbformat": 4,
 "nbformat_minor": 4
}
