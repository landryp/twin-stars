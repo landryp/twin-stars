{
 "cells": [
  {
   "cell_type": "code",
   "execution_count": 2,
   "metadata": {
    "id": "GuXZy1kPnidU"
   },
   "outputs": [],
   "source": [
    "### SIMULATED_BNS_RATES.IPYNB -- calculate expected astrophysical rates within sensitive volume, given total astrophysical rate estimate"
   ]
  },
  {
   "cell_type": "code",
   "execution_count": 3,
   "metadata": {
    "id": "7wYM7wvMnwZm"
   },
   "outputs": [],
   "source": [
    "# load packages\n",
    "\n",
    "import numpy as np\n",
    "from scipy.interpolate import interp1d\n",
    "import matplotlib.pyplot as plt\n",
    "import seaborn as sns"
   ]
  },
  {
   "cell_type": "code",
   "execution_count": 4,
   "metadata": {
    "colab": {
     "base_uri": "https://localhost:8080/"
    },
    "id": "bK_LHQ77n78L",
    "outputId": "6fb80cb3-e25f-406a-8edf-9a4c57de46e4"
   },
   "outputs": [],
   "source": [
    "# import\n",
    "\n",
    "#! python3 -m pip install bilby # only need to run this once\n",
    "#! python3 -m pip install lalsuite # only need to run this once\n",
    "\n",
    "#import bilby\n",
    "#import lal\n",
    "#import lalsimulation as lalsim\n",
    "import astropy.units as u\n",
    "from astropy.coordinates import Distance\n",
    "from astropy.cosmology import Planck15 as cosmo"
   ]
  },
  {
   "cell_type": "code",
   "execution_count": 5,
   "metadata": {},
   "outputs": [],
   "source": [
    "# user input -- realistic rate, no sfr scenario\n",
    "\n",
    "BNS_RATE = 440. # Gpc^-3 yr^-1, cf. rates in https://arxiv.org/abs/2111.03634\n",
    "\n",
    "ZMIN = 1e-6\n",
    "DLMIN = Distance(z=ZMIN, unit=u.Mpc).value\n",
    "DLMAX_DICT = {'O4': 190., 'O5': 330., '3G': 3000., 'z10': 100000.} # Mpc; 200, 350, 100000 (z=9.5) are reasonable range estimates for O4, O5, 3G; see https://arxiv.org/abs/1304.0670, https://arxiv.org/abs/2109.09882\n",
    "\n",
    "def SFR(z): # star formation rate as a function of redshift\n",
    "    \n",
    "    if np.isscalar(z): z = np.array([z])\n",
    "    else: z = np.array(z)\n",
    "    \n",
    "    return 1.\n",
    "\n",
    "def DL_PDF(dl,params): # luminosity distance distribution probability density function\n",
    "\n",
    "  dlmin, dlmax = params\n",
    "\t\n",
    "  if np.isscalar(dl): dl = np.array([dl])\n",
    "  else: dl = np.array(dl)\n",
    "  Z = np.zeros(len(dl))\n",
    "\t\n",
    "  z = np.array([Distance(d,unit=u.Mpc).compute_z(cosmology=cosmo) for d in dl])\n",
    "  p = 4.*np.pi*dl**2*SFR(z)/(cosmo.H(z).value*(1.+z)**3) # uniform in comoving volume distribution, with Madau-Dickinson SFR; see https://arxiv.org/abs/1505.05607, https://arxiv.org/abs/1805.10270\n",
    "\t\n",
    "  return np.where((dl > dlmax) | (dl < dlmin), Z, p) # this enforces the dlmin and dlmax cutoffs"
   ]
  },
  {
   "cell_type": "code",
   "execution_count": 6,
   "metadata": {},
   "outputs": [
    {
     "name": "stdout",
     "output_type": "stream",
     "text": [
      "13993.490118213776\n"
     ]
    }
   ],
   "source": [
    "z_grid = np.linspace(ZMIN,Distance(1.,unit=u.Mpc).compute_z(cosmology=cosmo),1000)\n",
    "norm = 1e9*np.trapz(DL_PDF(Distance(z=z_grid, unit=u.Mpc).value,(DLMIN,DLMAX_DICT['z10'])),z_grid)\n",
    "print(norm) # this normalization ensures local rate (out to 1 Mpc) matches BNS_RATE, 1e9 converts Gpc^-3 to Mpc^-3"
   ]
  },
  {
   "cell_type": "code",
   "execution_count": 8,
   "metadata": {},
   "outputs": [
    {
     "data": {
      "text/latex": [
       "$2.5915653 \\; \\mathrm{}$"
      ],
      "text/plain": [
       "<Quantity 2.59156526>"
      ]
     },
     "execution_count": 8,
     "metadata": {},
     "output_type": "execute_result"
    }
   ],
   "source": [
    "z_grid = np.linspace(ZMIN,Distance(DLMAX_DICT['O4'],unit=u.Mpc).compute_z(cosmology=cosmo),1000)\n",
    "BNS_RATE*np.trapz(DL_PDF(Distance(z=z_grid, unit=u.Mpc).value,(DLMIN,DLMAX_DICT['z10'])),z_grid)/norm"
   ]
  },
  {
   "cell_type": "code",
   "execution_count": 9,
   "metadata": {},
   "outputs": [
    {
     "data": {
      "text/latex": [
       "$12.239008 \\; \\mathrm{}$"
      ],
      "text/plain": [
       "<Quantity 12.23900805>"
      ]
     },
     "execution_count": 9,
     "metadata": {},
     "output_type": "execute_result"
    }
   ],
   "source": [
    "z_grid = np.linspace(ZMIN,Distance(DLMAX_DICT['O5'],unit=u.Mpc).compute_z(cosmology=cosmo),1000)\n",
    "BNS_RATE*np.trapz(DL_PDF(Distance(z=z_grid, unit=u.Mpc).value,(DLMIN,DLMAX_DICT['z10'])),z_grid)/norm"
   ]
  },
  {
   "cell_type": "code",
   "execution_count": 10,
   "metadata": {},
   "outputs": [
    {
     "data": {
      "text/latex": [
       "$2519.4359 \\; \\mathrm{}$"
      ],
      "text/plain": [
       "<Quantity 2519.43585616>"
      ]
     },
     "execution_count": 10,
     "metadata": {},
     "output_type": "execute_result"
    }
   ],
   "source": [
    "z_grid = np.linspace(ZMIN,Distance(DLMAX_DICT['3G'],unit=u.Mpc).compute_z(cosmology=cosmo),1000)\n",
    "BNS_RATE*np.trapz(DL_PDF(Distance(z=z_grid, unit=u.Mpc).value,(DLMIN,DLMAX_DICT['z10'])),z_grid)/norm"
   ]
  },
  {
   "cell_type": "code",
   "execution_count": 11,
   "metadata": {},
   "outputs": [],
   "source": [
    "# user input -- realistic rate, sfr scenario\n",
    "\n",
    "BNS_RATE = 440. # Gpc^-3 yr^-1, cf. rates in https://arxiv.org/abs/2111.03634\n",
    "\n",
    "ZMIN = 1e-6\n",
    "DLMIN = Distance(z=ZMIN, unit=u.Mpc).value\n",
    "DLMAX_DICT = {'O4': 190., 'O5': 330., '3G': 3000., 'z10': 100000.} # Mpc; 200, 350, 100000 (z=9.5) are reasonable range estimates for O4, O5, 3G; see https://arxiv.org/abs/1304.0670, https://arxiv.org/abs/2109.09882\n",
    "\n",
    "def SFR(z): # star formation rate as a function of redshift\n",
    "    \n",
    "    if np.isscalar(z): z = np.array([z])\n",
    "    else: z = np.array(z)\n",
    "    \n",
    "    return  (1.+1./2.9**5.6)*(1.+z)**2.7/(1.+((1.+z)/2.9)**5.6) # Madau-Dickinson SFR, up to normalization\n",
    "\n",
    "def DL_PDF(dl,params): # luminosity distance distribution probability density function\n",
    "\n",
    "  dlmin, dlmax = params\n",
    "\t\n",
    "  if np.isscalar(dl): dl = np.array([dl])\n",
    "  else: dl = np.array(dl)\n",
    "  Z = np.zeros(len(dl))\n",
    "\t\n",
    "  z = np.array([Distance(d,unit=u.Mpc).compute_z(cosmology=cosmo) for d in dl])\n",
    "  p = 4.*np.pi*dl**2*SFR(z)/(cosmo.H(z).value*(1.+z)**3) # uniform in comoving volume distribution, with Madau-Dickinson SFR; see https://arxiv.org/abs/1505.05607, https://arxiv.org/abs/1805.10270\n",
    "\t\n",
    "  return np.where((dl > dlmax) | (dl < dlmin), Z, p) # this enforces the dlmin and dlmax cutoffs"
   ]
  },
  {
   "cell_type": "code",
   "execution_count": 12,
   "metadata": {},
   "outputs": [
    {
     "name": "stdout",
     "output_type": "stream",
     "text": [
      "13999.866149428628\n"
     ]
    }
   ],
   "source": [
    "z_grid = np.linspace(ZMIN,Distance(1.,unit=u.Mpc).compute_z(cosmology=cosmo),1000)\n",
    "norm = 1e9*np.trapz(DL_PDF(Distance(z=z_grid, unit=u.Mpc).value,(DLMIN,DLMAX_DICT['z10'])),z_grid)\n",
    "print(norm) # this normalization ensures local rate (out to 1 Mpc) matches BNS_RATE, 1e9 converts Gpc^-3 to Mpc^-3"
   ]
  },
  {
   "cell_type": "code",
   "execution_count": 13,
   "metadata": {},
   "outputs": [
    {
     "data": {
      "text/latex": [
       "$2.8129004 \\; \\mathrm{}$"
      ],
      "text/plain": [
       "<Quantity 2.81290043>"
      ]
     },
     "execution_count": 13,
     "metadata": {},
     "output_type": "execute_result"
    }
   ],
   "source": [
    "z_grid = np.linspace(ZMIN,Distance(DLMAX_DICT['O4'],unit=u.Mpc).compute_z(cosmology=cosmo),1000)\n",
    "BNS_RATE*np.trapz(DL_PDF(Distance(z=z_grid, unit=u.Mpc).value,(DLMIN,DLMAX_DICT['z10'])),z_grid)/norm"
   ]
  },
  {
   "cell_type": "code",
   "execution_count": 14,
   "metadata": {},
   "outputs": [
    {
     "data": {
      "text/latex": [
       "$14.049928 \\; \\mathrm{}$"
      ],
      "text/plain": [
       "<Quantity 14.04992793>"
      ]
     },
     "execution_count": 14,
     "metadata": {},
     "output_type": "execute_result"
    }
   ],
   "source": [
    "z_grid = np.linspace(ZMIN,Distance(DLMAX_DICT['O5'],unit=u.Mpc).compute_z(cosmology=cosmo),1000)\n",
    "BNS_RATE*np.trapz(DL_PDF(Distance(z=z_grid, unit=u.Mpc).value,(DLMIN,DLMAX_DICT['z10'])),z_grid)/norm"
   ]
  },
  {
   "cell_type": "code",
   "execution_count": 15,
   "metadata": {},
   "outputs": [
    {
     "data": {
      "text/latex": [
       "$5822.028 \\; \\mathrm{}$"
      ],
      "text/plain": [
       "<Quantity 5822.02797352>"
      ]
     },
     "execution_count": 15,
     "metadata": {},
     "output_type": "execute_result"
    }
   ],
   "source": [
    "z_grid = np.linspace(ZMIN,Distance(DLMAX_DICT['3G'],unit=u.Mpc).compute_z(cosmology=cosmo),1000)\n",
    "BNS_RATE*np.trapz(DL_PDF(Distance(z=z_grid, unit=u.Mpc).value,(DLMIN,DLMAX_DICT['z10'])),z_grid)/norm"
   ]
  }
 ],
 "metadata": {
  "colab": {
   "collapsed_sections": [],
   "name": "Simulated_BNS_Population.ipynb",
   "provenance": []
  },
  "kernelspec": {
   "display_name": "igwn-py39",
   "language": "python",
   "name": "igwn-py39"
  },
  "language_info": {
   "codemirror_mode": {
    "name": "ipython",
    "version": 3
   },
   "file_extension": ".py",
   "mimetype": "text/x-python",
   "name": "python",
   "nbconvert_exporter": "python",
   "pygments_lexer": "ipython3",
   "version": "3.9.13"
  }
 },
 "nbformat": 4,
 "nbformat_minor": 4
}
