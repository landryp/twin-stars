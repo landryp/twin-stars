{
 "cells": [
  {
   "cell_type": "code",
   "execution_count": 1,
   "metadata": {
    "id": "GuXZy1kPnidU"
   },
   "outputs": [],
   "source": [
    "### SIMULATED_BNS_RATES.IPYNB -- calculate expected astrophysical rates within sensitive volume, given total astrophysical rate estimate"
   ]
  },
  {
   "cell_type": "code",
   "execution_count": 2,
   "metadata": {
    "id": "7wYM7wvMnwZm"
   },
   "outputs": [],
   "source": [
    "# load packages\n",
    "\n",
    "import numpy as np\n",
    "from scipy.interpolate import interp1d\n",
    "import matplotlib.pyplot as plt\n",
    "import seaborn as sns"
   ]
  },
  {
   "cell_type": "code",
   "execution_count": 3,
   "metadata": {
    "colab": {
     "base_uri": "https://localhost:8080/"
    },
    "id": "bK_LHQ77n78L",
    "outputId": "6fb80cb3-e25f-406a-8edf-9a4c57de46e4"
   },
   "outputs": [
    {
     "name": "stdout",
     "output_type": "stream",
     "text": [
      "Defaulting to user installation because normal site-packages is not writeable\n",
      "Requirement already satisfied: bilby in /home/philippe.landry/.local/lib/python3.7/site-packages (1.1.5)\n",
      "Requirement already satisfied: matplotlib>=2.1 in /opt/conda3/lib/python3.7/site-packages (from bilby) (3.4.3)\n",
      "Requirement already satisfied: astropy in /home/philippe.landry/.local/lib/python3.7/site-packages (from bilby) (4.3.1)\n",
      "Requirement already satisfied: dynesty<1.1 in /home/philippe.landry/.local/lib/python3.7/site-packages (from bilby) (1.0.1)\n",
      "Requirement already satisfied: numpy in /opt/conda3/lib/python3.7/site-packages (from bilby) (1.21.2)\n",
      "Requirement already satisfied: scipy>=1.5 in /home/philippe.landry/.local/lib/python3.7/site-packages (from bilby) (1.5.2)\n",
      "Requirement already satisfied: mock in /home/philippe.landry/.local/lib/python3.7/site-packages (from bilby) (4.0.3)\n",
      "Requirement already satisfied: h5py in /home/philippe.landry/.local/lib/python3.7/site-packages (from bilby) (3.7.0)\n",
      "Requirement already satisfied: attrs in /opt/conda3/lib/python3.7/site-packages (from bilby) (21.2.0)\n",
      "Requirement already satisfied: pandas in /home/philippe.landry/.local/lib/python3.7/site-packages (from bilby) (1.1.0)\n",
      "Requirement already satisfied: tables in /home/philippe.landry/.local/lib/python3.7/site-packages (from bilby) (3.7.0)\n",
      "Requirement already satisfied: corner in /home/philippe.landry/.local/lib/python3.7/site-packages (from bilby) (2.2.1)\n",
      "Requirement already satisfied: tqdm in /opt/conda3/lib/python3.7/site-packages (from bilby) (4.62.2)\n",
      "Requirement already satisfied: dill in /home/philippe.landry/.local/lib/python3.7/site-packages (from bilby) (0.3.5.1)\n",
      "Requirement already satisfied: emcee in /home/philippe.landry/.local/lib/python3.7/site-packages (from bilby) (3.1.2)\n",
      "Requirement already satisfied: six in /opt/conda3/lib/python3.7/site-packages (from dynesty<1.1->bilby) (1.16.0)\n",
      "Requirement already satisfied: python-dateutil>=2.7 in /opt/conda3/lib/python3.7/site-packages (from matplotlib>=2.1->bilby) (2.8.2)\n",
      "Requirement already satisfied: cycler>=0.10 in /opt/conda3/lib/python3.7/site-packages (from matplotlib>=2.1->bilby) (0.10.0)\n",
      "Requirement already satisfied: kiwisolver>=1.0.1 in /opt/conda3/lib/python3.7/site-packages (from matplotlib>=2.1->bilby) (1.3.2)\n",
      "Requirement already satisfied: pillow>=6.2.0 in /opt/conda3/lib/python3.7/site-packages (from matplotlib>=2.1->bilby) (8.3.1)\n",
      "Requirement already satisfied: pyparsing>=2.2.1 in /opt/conda3/lib/python3.7/site-packages (from matplotlib>=2.1->bilby) (2.4.7)\n",
      "Requirement already satisfied: importlib-metadata in /opt/conda3/lib/python3.7/site-packages (from astropy->bilby) (4.8.1)\n",
      "Requirement already satisfied: pyerfa>=1.7.3 in /home/philippe.landry/.local/lib/python3.7/site-packages (from astropy->bilby) (2.0.0.1)\n",
      "Requirement already satisfied: typing-extensions>=3.6.4 in /home/philippe.landry/.local/lib/python3.7/site-packages (from importlib-metadata->astropy->bilby) (3.7.4.3)\n",
      "Requirement already satisfied: zipp>=0.5 in /opt/conda3/lib/python3.7/site-packages (from importlib-metadata->astropy->bilby) (3.5.0)\n",
      "Requirement already satisfied: pytz>=2017.2 in /home/philippe.landry/.local/lib/python3.7/site-packages (from pandas->bilby) (2020.1)\n",
      "Requirement already satisfied: numexpr>=2.6.2 in /home/philippe.landry/.local/lib/python3.7/site-packages (from tables->bilby) (2.8.1)\n",
      "Requirement already satisfied: packaging in /opt/conda3/lib/python3.7/site-packages (from tables->bilby) (21.0)\n",
      "Defaulting to user installation because normal site-packages is not writeable\n",
      "Requirement already satisfied: lalsuite in /home/philippe.landry/.local/lib/python3.7/site-packages (6.82)\n",
      "Requirement already satisfied: numpy>=1.7 in /opt/conda3/lib/python3.7/site-packages (from lalsuite) (1.21.2)\n",
      "Requirement already satisfied: matplotlib in /opt/conda3/lib/python3.7/site-packages (from lalsuite) (3.4.3)\n",
      "Requirement already satisfied: scipy in /home/philippe.landry/.local/lib/python3.7/site-packages (from lalsuite) (1.5.2)\n",
      "Requirement already satisfied: lscsoft-glue in /home/philippe.landry/.local/lib/python3.7/site-packages (from lalsuite) (2.0.0)\n",
      "Requirement already satisfied: python-dateutil in /opt/conda3/lib/python3.7/site-packages (from lalsuite) (2.8.2)\n",
      "Requirement already satisfied: ligo-segments in /home/philippe.landry/.local/lib/python3.7/site-packages (from lalsuite) (1.3.0)\n",
      "Requirement already satisfied: six in /opt/conda3/lib/python3.7/site-packages (from ligo-segments->lalsuite) (1.16.0)\n",
      "Requirement already satisfied: pyOpenSSL in /opt/conda3/lib/python3.7/site-packages (from lscsoft-glue->lalsuite) (20.0.1)\n",
      "Requirement already satisfied: cycler>=0.10 in /opt/conda3/lib/python3.7/site-packages (from matplotlib->lalsuite) (0.10.0)\n",
      "Requirement already satisfied: pyparsing>=2.2.1 in /opt/conda3/lib/python3.7/site-packages (from matplotlib->lalsuite) (2.4.7)\n",
      "Requirement already satisfied: kiwisolver>=1.0.1 in /opt/conda3/lib/python3.7/site-packages (from matplotlib->lalsuite) (1.3.2)\n",
      "Requirement already satisfied: pillow>=6.2.0 in /opt/conda3/lib/python3.7/site-packages (from matplotlib->lalsuite) (8.3.1)\n",
      "Requirement already satisfied: cryptography>=3.2 in /opt/conda3/lib/python3.7/site-packages (from pyOpenSSL->lscsoft-glue->lalsuite) (3.4.7)\n",
      "Requirement already satisfied: cffi>=1.12 in /opt/conda3/lib/python3.7/site-packages (from cryptography>=3.2->pyOpenSSL->lscsoft-glue->lalsuite) (1.14.6)\n",
      "Requirement already satisfied: pycparser in /opt/conda3/lib/python3.7/site-packages (from cffi>=1.12->cryptography>=3.2->pyOpenSSL->lscsoft-glue->lalsuite) (2.20)\n"
     ]
    }
   ],
   "source": [
    "# import sodapop\n",
    "\n",
    "! python3 -m pip install bilby # only need to run this once\n",
    "! python3 -m pip install lalsuite # only need to run this once\n",
    "\n",
    "import bilby\n",
    "import lal\n",
    "import lalsimulation as lalsim\n",
    "import astropy.units as u\n",
    "from astropy.coordinates import Distance\n",
    "from astropy.cosmology import Planck15 as cosmo"
   ]
  },
  {
   "cell_type": "code",
   "execution_count": 4,
   "metadata": {
    "id": "oJ9chvFQ6Nj3"
   },
   "outputs": [],
   "source": [
    "# user input -- high rate, no sfr scenario\n",
    "\n",
    "BNS_RATE = 1200. # Gpc^-3 yr^-1, cf. rates in https://arxiv.org/abs/2111.03634\n",
    "\n",
    "ZMIN = 1e-6\n",
    "DLMIN = Distance(z=ZMIN, unit=u.Mpc).value\n",
    "DLMAX_DICT = {'O4': 200., 'O5': 350., '3G': 3000., 'z10': 100000.} # Mpc; 200, 350, 100000 (z=9.5) are reasonable range estimates for O4, O5, 3G; see https://arxiv.org/abs/1304.0670, https://arxiv.org/abs/2109.09882\n",
    "\n",
    "def SFR(z): # star formation rate as a function of redshift\n",
    "    \n",
    "    if np.isscalar(z): z = np.array([z])\n",
    "    else: z = np.array(z)\n",
    "    \n",
    "    return  1.\n",
    "\n",
    "def DL_PDF(dl,params): # luminosity distance distribution probability density function\n",
    "\n",
    "  dlmin, dlmax = params\n",
    "\t\n",
    "  if np.isscalar(dl): dl = np.array([dl])\n",
    "  else: dl = np.array(dl)\n",
    "  Z = np.zeros(len(dl))\n",
    "\t\n",
    "  z = np.array([Distance(d,unit=u.Mpc).compute_z(cosmology=cosmo) for d in dl])\n",
    "  p = 4.*np.pi*dl**2*SFR(z)/(cosmo.H(z).value*(1.+z)**3) # uniform in comoving volume distribution, with Madau-Dickinson SFR; see https://arxiv.org/abs/1505.05607, https://arxiv.org/abs/1805.10270\n",
    "\t\n",
    "  return np.where((dl > dlmax) | (dl < dlmin), Z, p) # this enforces the dlmin and dlmax cutoffs"
   ]
  },
  {
   "cell_type": "code",
   "execution_count": 5,
   "metadata": {},
   "outputs": [],
   "source": [
    "z_grid = np.linspace(ZMIN,Distance(1.,unit=u.Mpc).compute_z(cosmology=cosmo),1000)\n",
    "norm = 1e9*np.trapz(DL_PDF(Distance(z=z_grid, unit=u.Mpc).value,(DLMIN,DLMAX_DICT['z10'])),z_grid)"
   ]
  },
  {
   "cell_type": "code",
   "execution_count": 6,
   "metadata": {},
   "outputs": [
    {
     "data": {
      "text/plain": [
       "8.180826098007383"
      ]
     },
     "execution_count": 6,
     "metadata": {},
     "output_type": "execute_result"
    }
   ],
   "source": [
    "z_grid = np.linspace(ZMIN,Distance(DLMAX_DICT['O4'],unit=u.Mpc).compute_z(cosmology=cosmo),1000)\n",
    "BNS_RATE*np.trapz(DL_PDF(Distance(z=z_grid, unit=u.Mpc).value,(DLMIN,DLMAX_DICT['z10'])),z_grid)/norm"
   ]
  },
  {
   "cell_type": "code",
   "execution_count": 7,
   "metadata": {},
   "outputs": [
    {
     "data": {
      "text/plain": [
       "39.25825359479284"
      ]
     },
     "execution_count": 7,
     "metadata": {},
     "output_type": "execute_result"
    }
   ],
   "source": [
    "z_grid = np.linspace(ZMIN,Distance(DLMAX_DICT['O5'],unit=u.Mpc).compute_z(cosmology=cosmo),1000)\n",
    "BNS_RATE*np.trapz(DL_PDF(Distance(z=z_grid, unit=u.Mpc).value,(DLMIN,DLMAX_DICT['z10'])),z_grid)/norm"
   ]
  },
  {
   "cell_type": "code",
   "execution_count": 8,
   "metadata": {},
   "outputs": [
    {
     "data": {
      "text/plain": [
       "6871.18869862095"
      ]
     },
     "execution_count": 8,
     "metadata": {},
     "output_type": "execute_result"
    }
   ],
   "source": [
    "z_grid = np.linspace(ZMIN,Distance(DLMAX_DICT['3G'],unit=u.Mpc).compute_z(cosmology=cosmo),1000)\n",
    "BNS_RATE*np.trapz(DL_PDF(Distance(z=z_grid, unit=u.Mpc).value,(DLMIN,DLMAX_DICT['z10'])),z_grid)/norm"
   ]
  },
  {
   "cell_type": "code",
   "execution_count": 9,
   "metadata": {},
   "outputs": [],
   "source": [
    "# user input -- high rate, sfr scenario\n",
    "\n",
    "BNS_RATE = 1200. # Gpc^-3 yr^-1, cf. rates in https://arxiv.org/abs/2111.03634\n",
    "\n",
    "def SFR(z): # star formation rate as a function of redshift\n",
    "    \n",
    "    if np.isscalar(z): z = np.array([z])\n",
    "    else: z = np.array(z)\n",
    "    \n",
    "    return (1.+1./2.9**5.6)*(1.+z)**2.7/(1.+((1.+z)/2.9)**5.6) # Madau-Dickinson SFR, up to normalization\n",
    "\n",
    "def DL_PDF(dl,params): # luminosity distance distribution probability density function\n",
    "\n",
    "  dlmin, dlmax = params\n",
    "\t\n",
    "  if np.isscalar(dl): dl = np.array([dl])\n",
    "  else: dl = np.array(dl)\n",
    "  Z = np.zeros(len(dl))\n",
    "\t\n",
    "  z = np.array([Distance(d,unit=u.Mpc).compute_z(cosmology=cosmo) for d in dl])\n",
    "  p = 4.*np.pi*dl**2*SFR(z)/(cosmo.H(z).value*(1.+z)**3) # uniform in comoving volume distribution, with Madau-Dickinson SFR; see https://arxiv.org/abs/1505.05607, https://arxiv.org/abs/1805.10270\n",
    "\t\n",
    "  return np.where((dl > dlmax) | (dl < dlmin), Z, p) # this enforces the dlmin and dlmax cutoffs"
   ]
  },
  {
   "cell_type": "code",
   "execution_count": 10,
   "metadata": {},
   "outputs": [],
   "source": [
    "z_grid = np.linspace(ZMIN,Distance(1.,unit=u.Mpc).compute_z(cosmology=cosmo),1000)\n",
    "norm = 1e9*np.trapz(DL_PDF(Distance(z=z_grid, unit=u.Mpc).value,(DLMIN,DLMAX_DICT['z10'])),z_grid)"
   ]
  },
  {
   "cell_type": "code",
   "execution_count": 11,
   "metadata": {},
   "outputs": [
    {
     "data": {
      "text/plain": [
       "8.916216236027967"
      ]
     },
     "execution_count": 11,
     "metadata": {},
     "output_type": "execute_result"
    }
   ],
   "source": [
    "z_grid = np.linspace(ZMIN,Distance(DLMAX_DICT['O4'],unit=u.Mpc).compute_z(cosmology=cosmo),1000)\n",
    "BNS_RATE*np.trapz(DL_PDF(Distance(z=z_grid, unit=u.Mpc).value,(DLMIN,DLMAX_DICT['z10'])),z_grid)/norm"
   ]
  },
  {
   "cell_type": "code",
   "execution_count": 12,
   "metadata": {},
   "outputs": [
    {
     "data": {
      "text/plain": [
       "45.41630673774958"
      ]
     },
     "execution_count": 12,
     "metadata": {},
     "output_type": "execute_result"
    }
   ],
   "source": [
    "z_grid = np.linspace(ZMIN,Distance(DLMAX_DICT['O5'],unit=u.Mpc).compute_z(cosmology=cosmo),1000)\n",
    "BNS_RATE*np.trapz(DL_PDF(Distance(z=z_grid, unit=u.Mpc).value,(DLMIN,DLMAX_DICT['z10'])),z_grid)/norm"
   ]
  },
  {
   "cell_type": "code",
   "execution_count": 13,
   "metadata": {},
   "outputs": [
    {
     "data": {
      "text/plain": [
       "15878.258109606517"
      ]
     },
     "execution_count": 13,
     "metadata": {},
     "output_type": "execute_result"
    }
   ],
   "source": [
    "z_grid = np.linspace(ZMIN,Distance(DLMAX_DICT['3G'],unit=u.Mpc).compute_z(cosmology=cosmo),1000)\n",
    "BNS_RATE*np.trapz(DL_PDF(Distance(z=z_grid, unit=u.Mpc).value,(DLMIN,DLMAX_DICT['z10'])),z_grid)/norm"
   ]
  },
  {
   "cell_type": "code",
   "execution_count": 14,
   "metadata": {},
   "outputs": [],
   "source": [
    "# user input -- realistic rate, no sfr scenario\n",
    "\n",
    "BNS_RATE = 440. # Gpc^-3 yr^-1, cf. rates in https://arxiv.org/abs/2111.03634\n",
    "\n",
    "def SFR(z): # star formation rate as a function of redshift\n",
    "    \n",
    "    if np.isscalar(z): z = np.array([z])\n",
    "    else: z = np.array(z)\n",
    "    \n",
    "    return 1.\n",
    "\n",
    "def DL_PDF(dl,params): # luminosity distance distribution probability density function\n",
    "\n",
    "  dlmin, dlmax = params\n",
    "\t\n",
    "  if np.isscalar(dl): dl = np.array([dl])\n",
    "  else: dl = np.array(dl)\n",
    "  Z = np.zeros(len(dl))\n",
    "\t\n",
    "  z = np.array([Distance(d,unit=u.Mpc).compute_z(cosmology=cosmo) for d in dl])\n",
    "  p = 4.*np.pi*dl**2*SFR(z)/(cosmo.H(z).value*(1.+z)**3) # uniform in comoving volume distribution, with Madau-Dickinson SFR; see https://arxiv.org/abs/1505.05607, https://arxiv.org/abs/1805.10270\n",
    "\t\n",
    "  return np.where((dl > dlmax) | (dl < dlmin), Z, p) # this enforces the dlmin and dlmax cutoffs"
   ]
  },
  {
   "cell_type": "code",
   "execution_count": 15,
   "metadata": {},
   "outputs": [],
   "source": [
    "z_grid = np.linspace(ZMIN,Distance(1.,unit=u.Mpc).compute_z(cosmology=cosmo),1000)\n",
    "norm = 1e9*np.trapz(DL_PDF(Distance(z=z_grid, unit=u.Mpc).value,(DLMIN,DLMAX_DICT['z10'])),z_grid)"
   ]
  },
  {
   "cell_type": "code",
   "execution_count": 16,
   "metadata": {},
   "outputs": [
    {
     "data": {
      "text/plain": [
       "2.9996362359360402"
      ]
     },
     "execution_count": 16,
     "metadata": {},
     "output_type": "execute_result"
    }
   ],
   "source": [
    "z_grid = np.linspace(ZMIN,Distance(DLMAX_DICT['O4'],unit=u.Mpc).compute_z(cosmology=cosmo),1000)\n",
    "BNS_RATE*np.trapz(DL_PDF(Distance(z=z_grid, unit=u.Mpc).value,(DLMIN,DLMAX_DICT['z10'])),z_grid)/norm"
   ]
  },
  {
   "cell_type": "code",
   "execution_count": 17,
   "metadata": {},
   "outputs": [
    {
     "data": {
      "text/plain": [
       "14.394692984757373"
      ]
     },
     "execution_count": 17,
     "metadata": {},
     "output_type": "execute_result"
    }
   ],
   "source": [
    "z_grid = np.linspace(ZMIN,Distance(DLMAX_DICT['O5'],unit=u.Mpc).compute_z(cosmology=cosmo),1000)\n",
    "BNS_RATE*np.trapz(DL_PDF(Distance(z=z_grid, unit=u.Mpc).value,(DLMIN,DLMAX_DICT['z10'])),z_grid)/norm"
   ]
  },
  {
   "cell_type": "code",
   "execution_count": 18,
   "metadata": {},
   "outputs": [
    {
     "data": {
      "text/plain": [
       "2519.435856161015"
      ]
     },
     "execution_count": 18,
     "metadata": {},
     "output_type": "execute_result"
    }
   ],
   "source": [
    "z_grid = np.linspace(ZMIN,Distance(DLMAX_DICT['3G'],unit=u.Mpc).compute_z(cosmology=cosmo),1000)\n",
    "BNS_RATE*np.trapz(DL_PDF(Distance(z=z_grid, unit=u.Mpc).value,(DLMIN,DLMAX_DICT['z10'])),z_grid)/norm"
   ]
  },
  {
   "cell_type": "code",
   "execution_count": 19,
   "metadata": {},
   "outputs": [],
   "source": [
    "# user input -- realistic rate, sfr scenario\n",
    "\n",
    "BNS_RATE = 440. # Gpc^-3 yr^-1, cf. rates in https://arxiv.org/abs/2111.03634\n",
    "\n",
    "def SFR(z): # star formation rate as a function of redshift\n",
    "    \n",
    "    if np.isscalar(z): z = np.array([z])\n",
    "    else: z = np.array(z)\n",
    "    \n",
    "    return  (1.+1./2.9**5.6)*(1.+z)**2.7/(1.+((1.+z)/2.9)**5.6) # Madau-Dickinson SFR, up to normalization\n",
    "\n",
    "def DL_PDF(dl,params): # luminosity distance distribution probability density function\n",
    "\n",
    "  dlmin, dlmax = params\n",
    "\t\n",
    "  if np.isscalar(dl): dl = np.array([dl])\n",
    "  else: dl = np.array(dl)\n",
    "  Z = np.zeros(len(dl))\n",
    "\t\n",
    "  z = np.array([Distance(d,unit=u.Mpc).compute_z(cosmology=cosmo) for d in dl])\n",
    "  p = 4.*np.pi*dl**2*SFR(z)/(cosmo.H(z).value*(1.+z)**3) # uniform in comoving volume distribution, with Madau-Dickinson SFR; see https://arxiv.org/abs/1505.05607, https://arxiv.org/abs/1805.10270\n",
    "\t\n",
    "  return np.where((dl > dlmax) | (dl < dlmin), Z, p) # this enforces the dlmin and dlmax cutoffs"
   ]
  },
  {
   "cell_type": "code",
   "execution_count": 20,
   "metadata": {},
   "outputs": [],
   "source": [
    "z_grid = np.linspace(ZMIN,Distance(1.,unit=u.Mpc).compute_z(cosmology=cosmo),1000)\n",
    "norm = 1e9*np.trapz(DL_PDF(Distance(z=z_grid, unit=u.Mpc).value,(DLMIN,DLMAX_DICT['z10'])),z_grid)"
   ]
  },
  {
   "cell_type": "code",
   "execution_count": 21,
   "metadata": {},
   "outputs": [
    {
     "data": {
      "text/plain": [
       "3.2692792865435885"
      ]
     },
     "execution_count": 21,
     "metadata": {},
     "output_type": "execute_result"
    }
   ],
   "source": [
    "z_grid = np.linspace(ZMIN,Distance(DLMAX_DICT['O4'],unit=u.Mpc).compute_z(cosmology=cosmo),1000)\n",
    "BNS_RATE*np.trapz(DL_PDF(Distance(z=z_grid, unit=u.Mpc).value,(DLMIN,DLMAX_DICT['z10'])),z_grid)/norm"
   ]
  },
  {
   "cell_type": "code",
   "execution_count": 22,
   "metadata": {},
   "outputs": [
    {
     "data": {
      "text/plain": [
       "16.652645803841516"
      ]
     },
     "execution_count": 22,
     "metadata": {},
     "output_type": "execute_result"
    }
   ],
   "source": [
    "z_grid = np.linspace(ZMIN,Distance(DLMAX_DICT['O5'],unit=u.Mpc).compute_z(cosmology=cosmo),1000)\n",
    "BNS_RATE*np.trapz(DL_PDF(Distance(z=z_grid, unit=u.Mpc).value,(DLMIN,DLMAX_DICT['z10'])),z_grid)/norm"
   ]
  },
  {
   "cell_type": "code",
   "execution_count": 23,
   "metadata": {},
   "outputs": [
    {
     "data": {
      "text/plain": [
       "5822.0279735223885"
      ]
     },
     "execution_count": 23,
     "metadata": {},
     "output_type": "execute_result"
    }
   ],
   "source": [
    "z_grid = np.linspace(ZMIN,Distance(DLMAX_DICT['3G'],unit=u.Mpc).compute_z(cosmology=cosmo),1000)\n",
    "BNS_RATE*np.trapz(DL_PDF(Distance(z=z_grid, unit=u.Mpc).value,(DLMIN,DLMAX_DICT['z10'])),z_grid)/norm"
   ]
  },
  {
   "cell_type": "code",
   "execution_count": 24,
   "metadata": {},
   "outputs": [
    {
     "data": {
      "text/plain": [
       "[<matplotlib.lines.Line2D at 0x7f7938b18ad0>]"
      ]
     },
     "execution_count": 24,
     "metadata": {},
     "output_type": "execute_result"
    },
    {
     "data": {
      "image/png": "[encoded data removed]",
      "text/plain": [
       "<Figure size 432x288 with 1 Axes>"
      ]
     },
     "metadata": {
      "needs_background": "light"
     },
     "output_type": "display_data"
    }
   ],
   "source": [
    "plt.plot(np.linspace(0.,10.,1000),SFR(np.linspace(0.,10.,1000)))"
   ]
  },
  {
   "cell_type": "code",
   "execution_count": 25,
   "metadata": {},
   "outputs": [
    {
     "name": "stderr",
     "output_type": "stream",
     "text": [
      "12:42 bilby INFO    : Waveform generator initiated with\n",
      "  frequency_domain_source_model: bilby.gw.source.lal_binary_neutron_star\n",
      "  time_domain_source_model: None\n",
      "  parameter_conversion: bilby.gw.conversion.convert_to_lal_binary_neutron_star_parameters\n"
     ]
    },
    {
     "name": "stdout",
     "output_type": "stream",
     "text": [
      "32.24033638318363\n"
     ]
    }
   ],
   "source": [
    "injection_parameters = dict(\n",
    "    mass_1=1.4, mass_2=1.4, chi_1=0., chi_2=0., luminosity_distance=3000.,\n",
    "    theta_jn=0., psi=0., phase=0., geocent_time=1126259642.413,\n",
    "    ra=10., dec=20., lambda_1=500., lambda_2=500.)\n",
    "\n",
    "duration = 10*64. # maximum duration of 90 min for 3G from https://arxiv.org/abs/2103.12274; 10 min should be ok for most signals though\n",
    "sampling_frequency = 2 * 1024\n",
    "start_time = injection_parameters['geocent_time'] + 2 - duration\n",
    "\n",
    "waveform_arguments = dict(waveform_approximant='IMRPhenomPv2_NRTidal', # note: this waveform assumes aligned spins\n",
    "                          reference_frequency=50., minimum_frequency=10.0) # setting this to be lower than f_min for all of the interferometers\n",
    "waveform_generator = bilby.gw.WaveformGenerator(\n",
    "    duration=duration, sampling_frequency=sampling_frequency,\n",
    "    frequency_domain_source_model=bilby.gw.source.lal_binary_neutron_star,\n",
    "    parameter_conversion=bilby.gw.conversion.convert_to_lal_binary_neutron_star_parameters,\n",
    "    waveform_arguments=waveform_arguments)\n",
    "\n",
    "interferometers = bilby.gw.detector.InterferometerList(['CE', 'L1', 'ET'])\n",
    "interferometers[1].power_spectral_density = bilby.gw.detector.PowerSpectralDensity(psd_file='/home/philippe.landry/.local/lib/python3.7/site-packages/bilby/gw/detector/noise_curves/CE_psd.txt') # two CEs at HL sites, ET at V site\n",
    "interferometers.set_strain_data_from_power_spectral_densities(\n",
    "    sampling_frequency=sampling_frequency, duration=duration, start_time=start_time)\n",
    "\n",
    "injection_polarizations = waveform_generator.frequency_domain_strain(injection_parameters)\n",
    "signal_ifos = [interferometer.get_detector_response(injection_polarizations, injection_parameters) for interferometer in interferometers]\n",
    "\n",
    "network_snr = np.sqrt(np.sum([interferometer.optimal_snr_squared(signal=signal_ifo) for interferometer,signal_ifo in zip(interferometers,signal_ifos)])).real\n",
    "\n",
    "print(network_snr)"
   ]
  },
  {
   "cell_type": "code",
   "execution_count": 26,
   "metadata": {},
   "outputs": [
    {
     "data": {
      "text/plain": [
       "0.5116516836358173"
      ]
     },
     "execution_count": 26,
     "metadata": {},
     "output_type": "execute_result"
    }
   ],
   "source": [
    "Distance(3000.,unit=u.Mpc).compute_z(cosmology=cosmo)"
   ]
  },
  {
   "cell_type": "code",
   "execution_count": 27,
   "metadata": {},
   "outputs": [
    {
     "data": {
      "text/plain": [
       "9.488994163887563"
      ]
     },
     "execution_count": 27,
     "metadata": {},
     "output_type": "execute_result"
    }
   ],
   "source": [
    "Distance(100000.,unit=u.Mpc).compute_z(cosmology=cosmo)"
   ]
  },
  {
   "cell_type": "code",
   "execution_count": 28,
   "metadata": {},
   "outputs": [],
   "source": [
    "# these astrophysical merger rates should track detection rates pretty closely, since detector horizons are designed to capture 1.4-1.4 mergers above SNR 12"
   ]
  }
 ],
 "metadata": {
  "colab": {
   "collapsed_sections": [],
   "name": "Simulated_BNS_Population.ipynb",
   "provenance": []
  },
  "kernelspec": {
   "display_name": "Python 3 (ipykernel)",
   "language": "python",
   "name": "python3"
  },
  "language_info": {
   "codemirror_mode": {
    "name": "ipython",
    "version": 3
   },
   "file_extension": ".py",
   "mimetype": "text/x-python",
   "name": "python",
   "nbconvert_exporter": "python",
   "pygments_lexer": "ipython3",
   "version": "3.7.10"
  }
 },
 "nbformat": 4,
 "nbformat_minor": 4
}
